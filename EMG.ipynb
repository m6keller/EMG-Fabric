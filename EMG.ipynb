{
  "nbformat": 4,
  "nbformat_minor": 0,
  "metadata": {
    "colab": {
      "provenance": [],
      "authorship_tag": "ABX9TyOQ2fBlhNDUqG2o8YbaWOxb",
      "include_colab_link": true
    },
    "kernelspec": {
      "name": "python3",
      "display_name": "Python 3"
    },
    "language_info": {
      "name": "python"
    }
  },
  "cells": [
    {
      "cell_type": "markdown",
      "metadata": {
        "id": "view-in-github",
        "colab_type": "text"
      },
      "source": [
        "<a href=\"https://colab.research.google.com/github/w12l3-c/EMG-Fabric/blob/main/EMG.ipynb\" target=\"_parent\"><img src=\"https://colab.research.google.com/assets/colab-badge.svg\" alt=\"Open In Colab\"/></a>"
      ]
    },
    {
      "cell_type": "markdown",
      "source": [
        "# EMG Fabric ML Model\n",
        "Made by Wallace Lee\n",
        "\n",
        "Right now the Rock Paper Scissors ML is Pretty Good\n",
        "\n",
        "For the Grasping motion that we collect data from, there is no point of using ML prediction as we can simply use a if value > threshold = grapse. But when we have multiple channels of EMG data then ML would be useful."
      ],
      "metadata": {
        "id": "awi8b5BkH6uh"
      }
    },
    {
      "cell_type": "markdown",
      "source": [
        "# Dataset"
      ],
      "metadata": {
        "id": "UGqdqF-ac-Uk"
      }
    },
    {
      "cell_type": "code",
      "source": [
        "# Kaggle\n",
        "! pip install kaggle"
      ],
      "metadata": {
        "colab": {
          "base_uri": "https://localhost:8080/"
        },
        "id": "5ToG4UxNc-Gh",
        "outputId": "dbbc850d-1215-4d12-f942-9329fd0378cb"
      },
      "execution_count": 128,
      "outputs": [
        {
          "output_type": "stream",
          "name": "stdout",
          "text": [
            "Looking in indexes: https://pypi.org/simple, https://us-python.pkg.dev/colab-wheels/public/simple/\n",
            "Requirement already satisfied: kaggle in /usr/local/lib/python3.9/dist-packages (1.5.13)\n",
            "Requirement already satisfied: requests in /usr/local/lib/python3.9/dist-packages (from kaggle) (2.25.1)\n",
            "Requirement already satisfied: certifi in /usr/local/lib/python3.9/dist-packages (from kaggle) (2022.12.7)\n",
            "Requirement already satisfied: python-dateutil in /usr/local/lib/python3.9/dist-packages (from kaggle) (2.8.2)\n",
            "Requirement already satisfied: python-slugify in /usr/local/lib/python3.9/dist-packages (from kaggle) (8.0.1)\n",
            "Requirement already satisfied: six>=1.10 in /usr/local/lib/python3.9/dist-packages (from kaggle) (1.15.0)\n",
            "Requirement already satisfied: tqdm in /usr/local/lib/python3.9/dist-packages (from kaggle) (4.65.0)\n",
            "Requirement already satisfied: urllib3 in /usr/local/lib/python3.9/dist-packages (from kaggle) (1.26.15)\n",
            "Requirement already satisfied: text-unidecode>=1.3 in /usr/local/lib/python3.9/dist-packages (from python-slugify->kaggle) (1.3)\n",
            "Requirement already satisfied: chardet<5,>=3.0.2 in /usr/local/lib/python3.9/dist-packages (from requests->kaggle) (4.0.0)\n",
            "Requirement already satisfied: idna<3,>=2.5 in /usr/local/lib/python3.9/dist-packages (from requests->kaggle) (2.10)\n"
          ]
        }
      ]
    },
    {
      "cell_type": "code",
      "source": [
        "from google.colab import files\n",
        "files.upload()"
      ],
      "metadata": {
        "colab": {
          "base_uri": "https://localhost:8080/",
          "height": 95
        },
        "id": "ovaaA0rxdvzB",
        "outputId": "15f97c96-a030-4344-ccf1-1e1cd494c919"
      },
      "execution_count": 129,
      "outputs": [
        {
          "output_type": "display_data",
          "data": {
            "text/plain": [
              "<IPython.core.display.HTML object>"
            ],
            "text/html": [
              "\n",
              "     <input type=\"file\" id=\"files-3974d58f-06d5-4910-b9d4-84611390a31f\" name=\"files[]\" multiple disabled\n",
              "        style=\"border:none\" />\n",
              "     <output id=\"result-3974d58f-06d5-4910-b9d4-84611390a31f\">\n",
              "      Upload widget is only available when the cell has been executed in the\n",
              "      current browser session. Please rerun this cell to enable.\n",
              "      </output>\n",
              "      <script>// Copyright 2017 Google LLC\n",
              "//\n",
              "// Licensed under the Apache License, Version 2.0 (the \"License\");\n",
              "// you may not use this file except in compliance with the License.\n",
              "// You may obtain a copy of the License at\n",
              "//\n",
              "//      http://www.apache.org/licenses/LICENSE-2.0\n",
              "//\n",
              "// Unless required by applicable law or agreed to in writing, software\n",
              "// distributed under the License is distributed on an \"AS IS\" BASIS,\n",
              "// WITHOUT WARRANTIES OR CONDITIONS OF ANY KIND, either express or implied.\n",
              "// See the License for the specific language governing permissions and\n",
              "// limitations under the License.\n",
              "\n",
              "/**\n",
              " * @fileoverview Helpers for google.colab Python module.\n",
              " */\n",
              "(function(scope) {\n",
              "function span(text, styleAttributes = {}) {\n",
              "  const element = document.createElement('span');\n",
              "  element.textContent = text;\n",
              "  for (const key of Object.keys(styleAttributes)) {\n",
              "    element.style[key] = styleAttributes[key];\n",
              "  }\n",
              "  return element;\n",
              "}\n",
              "\n",
              "// Max number of bytes which will be uploaded at a time.\n",
              "const MAX_PAYLOAD_SIZE = 100 * 1024;\n",
              "\n",
              "function _uploadFiles(inputId, outputId) {\n",
              "  const steps = uploadFilesStep(inputId, outputId);\n",
              "  const outputElement = document.getElementById(outputId);\n",
              "  // Cache steps on the outputElement to make it available for the next call\n",
              "  // to uploadFilesContinue from Python.\n",
              "  outputElement.steps = steps;\n",
              "\n",
              "  return _uploadFilesContinue(outputId);\n",
              "}\n",
              "\n",
              "// This is roughly an async generator (not supported in the browser yet),\n",
              "// where there are multiple asynchronous steps and the Python side is going\n",
              "// to poll for completion of each step.\n",
              "// This uses a Promise to block the python side on completion of each step,\n",
              "// then passes the result of the previous step as the input to the next step.\n",
              "function _uploadFilesContinue(outputId) {\n",
              "  const outputElement = document.getElementById(outputId);\n",
              "  const steps = outputElement.steps;\n",
              "\n",
              "  const next = steps.next(outputElement.lastPromiseValue);\n",
              "  return Promise.resolve(next.value.promise).then((value) => {\n",
              "    // Cache the last promise value to make it available to the next\n",
              "    // step of the generator.\n",
              "    outputElement.lastPromiseValue = value;\n",
              "    return next.value.response;\n",
              "  });\n",
              "}\n",
              "\n",
              "/**\n",
              " * Generator function which is called between each async step of the upload\n",
              " * process.\n",
              " * @param {string} inputId Element ID of the input file picker element.\n",
              " * @param {string} outputId Element ID of the output display.\n",
              " * @return {!Iterable<!Object>} Iterable of next steps.\n",
              " */\n",
              "function* uploadFilesStep(inputId, outputId) {\n",
              "  const inputElement = document.getElementById(inputId);\n",
              "  inputElement.disabled = false;\n",
              "\n",
              "  const outputElement = document.getElementById(outputId);\n",
              "  outputElement.innerHTML = '';\n",
              "\n",
              "  const pickedPromise = new Promise((resolve) => {\n",
              "    inputElement.addEventListener('change', (e) => {\n",
              "      resolve(e.target.files);\n",
              "    });\n",
              "  });\n",
              "\n",
              "  const cancel = document.createElement('button');\n",
              "  inputElement.parentElement.appendChild(cancel);\n",
              "  cancel.textContent = 'Cancel upload';\n",
              "  const cancelPromise = new Promise((resolve) => {\n",
              "    cancel.onclick = () => {\n",
              "      resolve(null);\n",
              "    };\n",
              "  });\n",
              "\n",
              "  // Wait for the user to pick the files.\n",
              "  const files = yield {\n",
              "    promise: Promise.race([pickedPromise, cancelPromise]),\n",
              "    response: {\n",
              "      action: 'starting',\n",
              "    }\n",
              "  };\n",
              "\n",
              "  cancel.remove();\n",
              "\n",
              "  // Disable the input element since further picks are not allowed.\n",
              "  inputElement.disabled = true;\n",
              "\n",
              "  if (!files) {\n",
              "    return {\n",
              "      response: {\n",
              "        action: 'complete',\n",
              "      }\n",
              "    };\n",
              "  }\n",
              "\n",
              "  for (const file of files) {\n",
              "    const li = document.createElement('li');\n",
              "    li.append(span(file.name, {fontWeight: 'bold'}));\n",
              "    li.append(span(\n",
              "        `(${file.type || 'n/a'}) - ${file.size} bytes, ` +\n",
              "        `last modified: ${\n",
              "            file.lastModifiedDate ? file.lastModifiedDate.toLocaleDateString() :\n",
              "                                    'n/a'} - `));\n",
              "    const percent = span('0% done');\n",
              "    li.appendChild(percent);\n",
              "\n",
              "    outputElement.appendChild(li);\n",
              "\n",
              "    const fileDataPromise = new Promise((resolve) => {\n",
              "      const reader = new FileReader();\n",
              "      reader.onload = (e) => {\n",
              "        resolve(e.target.result);\n",
              "      };\n",
              "      reader.readAsArrayBuffer(file);\n",
              "    });\n",
              "    // Wait for the data to be ready.\n",
              "    let fileData = yield {\n",
              "      promise: fileDataPromise,\n",
              "      response: {\n",
              "        action: 'continue',\n",
              "      }\n",
              "    };\n",
              "\n",
              "    // Use a chunked sending to avoid message size limits. See b/62115660.\n",
              "    let position = 0;\n",
              "    do {\n",
              "      const length = Math.min(fileData.byteLength - position, MAX_PAYLOAD_SIZE);\n",
              "      const chunk = new Uint8Array(fileData, position, length);\n",
              "      position += length;\n",
              "\n",
              "      const base64 = btoa(String.fromCharCode.apply(null, chunk));\n",
              "      yield {\n",
              "        response: {\n",
              "          action: 'append',\n",
              "          file: file.name,\n",
              "          data: base64,\n",
              "        },\n",
              "      };\n",
              "\n",
              "      let percentDone = fileData.byteLength === 0 ?\n",
              "          100 :\n",
              "          Math.round((position / fileData.byteLength) * 100);\n",
              "      percent.textContent = `${percentDone}% done`;\n",
              "\n",
              "    } while (position < fileData.byteLength);\n",
              "  }\n",
              "\n",
              "  // All done.\n",
              "  yield {\n",
              "    response: {\n",
              "      action: 'complete',\n",
              "    }\n",
              "  };\n",
              "}\n",
              "\n",
              "scope.google = scope.google || {};\n",
              "scope.google.colab = scope.google.colab || {};\n",
              "scope.google.colab._files = {\n",
              "  _uploadFiles,\n",
              "  _uploadFilesContinue,\n",
              "};\n",
              "})(self);\n",
              "</script> "
            ]
          },
          "metadata": {}
        },
        {
          "output_type": "stream",
          "name": "stdout",
          "text": [
            "Saving kaggle.json to kaggle.json\n"
          ]
        },
        {
          "output_type": "execute_result",
          "data": {
            "text/plain": [
              "{'kaggle.json': b'{\"username\":\"wallacel\",\"key\":\"d4846c13171812a348c366972bd73a6b\"}'}"
            ]
          },
          "metadata": {},
          "execution_count": 129
        }
      ]
    },
    {
      "cell_type": "code",
      "source": [
        "! cp kaggle.json ~/.kaggle/\n",
        "! chmod 600 ~/.kaggle/kaggle.json\n",
        "! kaggle datasets download -d kyr7plus/emg-4"
      ],
      "metadata": {
        "colab": {
          "base_uri": "https://localhost:8080/"
        },
        "id": "wWlatC9peKaU",
        "outputId": "cf3825f4-70ca-407e-8a36-6fc1b9f19d61"
      },
      "execution_count": 131,
      "outputs": [
        {
          "output_type": "stream",
          "name": "stdout",
          "text": [
            "Downloading emg-4.zip to /content\n",
            "100% 868k/868k [00:00<00:00, 1.25MB/s]\n",
            "100% 868k/868k [00:00<00:00, 1.25MB/s]\n"
          ]
        }
      ]
    },
    {
      "cell_type": "code",
      "source": [
        "! mkdir dataset\n",
        "! unzip -d dataset emg-4.zip"
      ],
      "metadata": {
        "colab": {
          "base_uri": "https://localhost:8080/"
        },
        "id": "aDrPrVyXeLpQ",
        "outputId": "68f310cb-bc6e-4629-abf3-503c6641c4db"
      },
      "execution_count": 132,
      "outputs": [
        {
          "output_type": "stream",
          "name": "stdout",
          "text": [
            "Archive:  emg-4.zip\n",
            "  inflating: dataset/0.csv           \n",
            "  inflating: dataset/1.csv           \n",
            "  inflating: dataset/2.csv           \n",
            "  inflating: dataset/3.csv           \n"
          ]
        }
      ]
    },
    {
      "cell_type": "code",
      "source": [
        "# Clone lead's github repo to get access to collected datasets\n",
        "!pip install git\n",
        "!git clone https://github.com/jacq-lee/emgFabric"
      ],
      "metadata": {
        "colab": {
          "base_uri": "https://localhost:8080/"
        },
        "id": "ilu2wLbkdzsZ",
        "outputId": "604ef86b-2069-44e5-c847-49ba346f91ab"
      },
      "execution_count": 1,
      "outputs": [
        {
          "output_type": "stream",
          "name": "stdout",
          "text": [
            "Looking in indexes: https://pypi.org/simple, https://us-python.pkg.dev/colab-wheels/public/simple/\n",
            "\u001b[31mERROR: Could not find a version that satisfies the requirement git (from versions: none)\u001b[0m\u001b[31m\n",
            "\u001b[0m\u001b[31mERROR: No matching distribution found for git\u001b[0m\u001b[31m\n",
            "\u001b[0mCloning into 'emgFabric'...\n",
            "remote: Enumerating objects: 51, done.\u001b[K\n",
            "remote: Counting objects: 100% (51/51), done.\u001b[K\n",
            "remote: Compressing objects: 100% (40/40), done.\u001b[K\n",
            "remote: Total 51 (delta 15), reused 39 (delta 9), pack-reused 0\u001b[K\n",
            "Unpacking objects: 100% (51/51), 46.79 KiB | 424.00 KiB/s, done.\n"
          ]
        }
      ]
    },
    {
      "cell_type": "code",
      "execution_count": 2,
      "metadata": {
        "id": "s7k0IjADaVnI"
      },
      "outputs": [],
      "source": [
        "%matplotlib inline\n",
        "import scipy as sp\n",
        "from scipy import signal\n",
        "\n",
        "import os\n",
        "import numpy as np\n",
        "import pandas as pd\n",
        "import matplotlib.pyplot as plt\n",
        "\n",
        "import tensorflow as tf\n",
        "import tensorflow.keras as keras\n",
        "import tensorflow.keras.layers as layers\n",
        "\n",
        "import sklearn\n",
        "from sklearn.model_selection import train_test_split\n",
        "from sklearn import preprocessing\n",
        "from sklearn.metrics import log_loss, classification_report, accuracy_score, confusion_matrix, ConfusionMatrixDisplay\n",
        "from sklearn.utils import shuffle\n",
        "from sklearn.neighbors import KNeighborsClassifier"
      ]
    },
    {
      "cell_type": "code",
      "source": [
        "import warnings\n",
        "warnings.filterwarnings(\"ignore\")"
      ],
      "metadata": {
        "id": "S23dhtBrspqK"
      },
      "execution_count": 3,
      "outputs": []
    },
    {
      "cell_type": "markdown",
      "source": [
        "# Signal Processing & Prepare Dataset"
      ],
      "metadata": {
        "id": "BrU-0bY0d0Hg"
      }
    },
    {
      "cell_type": "code",
      "source": [
        "def clean_data(path, stop):\n",
        "  data = np.loadtxt(path, dtype=int)\n",
        "  data = np.abs(np.diff(data))\n",
        "  num_sample = data.size\n",
        "  time = np.zeros((num_sample,), int)\n",
        "  sample_rate = np.reciprocal(np.divide(stop, num_sample))\n",
        "  return data, sample_rate"
      ],
      "metadata": {
        "id": "8AGwXe6YaaM0"
      },
      "execution_count": 4,
      "outputs": []
    },
    {
      "cell_type": "code",
      "source": [
        "def stop_time(path):\n",
        "  time = np.loadtxt(path)\n",
        "  time = time[-1]\n",
        "  return time"
      ],
      "metadata": {
        "id": "PPkfP653ZV-j"
      },
      "execution_count": 106,
      "outputs": []
    },
    {
      "cell_type": "code",
      "source": [
        "trial_root = \"/content/emgFabric/Arduino EMG Data\"\n",
        "trials = ['trial1.txt', 'trial2.txt', 'trial3.txt', 'trial4.txt', 'trial5.txt']\n",
        "time_stop = [\"trial1_contraction_times.txt\", \"trial2_contraction_times.txt\", \"trial3_contraction_times.txt\", \"trial4_contraction_times.txt\", \"trial5_contraction_times.txt\"]"
      ],
      "metadata": {
        "id": "5x9wzYohNg3K"
      },
      "execution_count": 112,
      "outputs": []
    },
    {
      "cell_type": "code",
      "source": [
        "stop = []\n",
        "for path in time_stop:\n",
        "  ts = stop_time(os.path.join(trial_root, path))\n",
        "  stop.append(ts)\n",
        "\n",
        "nps = []\n",
        "s_rates = []\n",
        "\n",
        "for i, path in enumerate(trials):\n",
        "  data, s_rate = clean_data(os.path.join(trial_root, path), stop[i])\n",
        "  nps.append(data)\n",
        "  s_rates.append(s_rate)"
      ],
      "metadata": {
        "id": "lrMXFonMabOo"
      },
      "execution_count": 107,
      "outputs": []
    },
    {
      "cell_type": "code",
      "source": [
        "# An example\n",
        "trial2_path = \"/content/emgFabric/Arduino EMG Data/trial2.txt\"\n",
        "trail2_stop = 67.61\n",
        "\n",
        "(t2_data, s_rate) = clean_data(trial2_path, trail2_stop)"
      ],
      "metadata": {
        "id": "r0yjqZAGabde"
      },
      "execution_count": 7,
      "outputs": []
    },
    {
      "cell_type": "code",
      "source": [
        "plt.plot(t2_data)"
      ],
      "metadata": {
        "colab": {
          "base_uri": "https://localhost:8080/",
          "height": 283
        },
        "id": "muyFAbWGae93",
        "outputId": "6cbc134d-0986-4c7f-b86d-e4573bdfa430"
      },
      "execution_count": 8,
      "outputs": [
        {
          "output_type": "execute_result",
          "data": {
            "text/plain": [
              "[<matplotlib.lines.Line2D at 0x7fe573cc6910>]"
            ]
          },
          "metadata": {},
          "execution_count": 8
        },
        {
          "output_type": "display_data",
          "data": {
            "text/plain": [
              "<Figure size 432x288 with 1 Axes>"
            ],
            "image/png": "[encoded data removed]"
          },
          "metadata": {
            "needs_background": "light"
          }
        }
      ]
    },
    {
      "cell_type": "code",
      "source": [
        "def filter_data(data, s_rate):\n",
        "  nyquist_f = s_rate/2\n",
        "  high = 0.75/nyquist_f\n",
        "  low = 15/nyquist_f\n",
        "  b, a = signal.butter(4, [high, low], btype='bandpass')\n",
        "  emg_filtered = signal.filtfilt(b, a, data, axis=0)\n",
        "  emg_rectified = np.abs(emg_filtered)\n",
        "  low_pass = 0.5/nyquist_f\n",
        "  print(nyquist_f)\n",
        "  b2, a2 = signal.butter(4, low_pass, btype='lowpass')\n",
        "  emg_envelop = signal.filtfilt(b2, a2, emg_rectified, axis=0)\n",
        "  return emg_envelop"
      ],
      "metadata": {
        "id": "cDO_SfxCagdB"
      },
      "execution_count": 9,
      "outputs": []
    },
    {
      "cell_type": "code",
      "source": [
        "emg_envelops = []\n",
        "for i, data in enumerate(nps):\n",
        "  emg_envelop = filter_data(data, s_rates[i])\n",
        "  emg_envelops.append(emg_envelop)"
      ],
      "metadata": {
        "colab": {
          "base_uri": "https://localhost:8080/"
        },
        "id": "XkzE9l5ub2H6",
        "outputId": "676fb5b3-9e8e-4059-e21d-f7748ab868e9"
      },
      "execution_count": 119,
      "outputs": [
        {
          "output_type": "stream",
          "name": "stdout",
          "text": [
            "17.050298380221655\n",
            "17.955923679929004\n",
            "20.979349186483102\n",
            "17.669872789326714\n",
            "17.636632200886265\n"
          ]
        }
      ]
    },
    {
      "cell_type": "code",
      "source": [
        "# An example\n",
        "emg_envelop = filter_data(t2_data, s_rate)\n",
        "\n",
        "plt.plot(emg_envelop)"
      ],
      "metadata": {
        "colab": {
          "base_uri": "https://localhost:8080/",
          "height": 302
        },
        "id": "XIy4Dbrpajq5",
        "outputId": "494e3f5e-1879-4d64-8785-fd6bffed0446"
      },
      "execution_count": 10,
      "outputs": [
        {
          "output_type": "stream",
          "name": "stdout",
          "text": [
            "17.955923679929004\n"
          ]
        },
        {
          "output_type": "execute_result",
          "data": {
            "text/plain": [
              "[<matplotlib.lines.Line2D at 0x7fe57138f4f0>]"
            ]
          },
          "metadata": {},
          "execution_count": 10
        },
        {
          "output_type": "display_data",
          "data": {
            "text/plain": [
              "<Figure size 432x288 with 1 Axes>"
            ],
            "image/png": "[encoded data removed]"
          },
          "metadata": {
            "needs_background": "light"
          }
        }
      ]
    },
    {
      "cell_type": "code",
      "source": [
        "emgs = []\n",
        "emg = pd.DataFrame()\n",
        "labelling = emg.copy()\n",
        "thres = 2     # hyperparam to tune\n",
        "\n",
        "for emg_envelop in emg_envelops:\n",
        "  emg = pd.DataFrame(emg_envelop)\n",
        "  labelling = emg.copy()\n",
        "  labelling.iloc[:, 0] = labelling.iloc[:, 0].apply((lambda x: 1 if x > thres else 0))\n",
        "  emg[1] = labelling\n",
        "  emg = emg.rename({0: 'Value', 1: 'Label'}, axis=1)\n",
        "  emgs.append(emg)\n",
        "\n",
        "emg = pd.concat(emgs) # the emg df is prepared"
      ],
      "metadata": {
        "id": "2zWQVF4ZQAfc"
      },
      "execution_count": 120,
      "outputs": []
    },
    {
      "cell_type": "code",
      "source": [
        "emg"
      ],
      "metadata": {
        "colab": {
          "base_uri": "https://localhost:8080/",
          "height": 424
        },
        "id": "_nCJbkbLdJ6M",
        "outputId": "9dc71343-eaed-46ec-bb93-e6b7add7336b"
      },
      "execution_count": 121,
      "outputs": [
        {
          "output_type": "execute_result",
          "data": {
            "text/plain": [
              "         Value  Label\n",
              "0    -0.066436      0\n",
              "1     0.018802      0\n",
              "2     0.101680      0\n",
              "3     0.181885      0\n",
              "4     0.259121      0\n",
              "...        ...    ...\n",
              "2383  3.676107      1\n",
              "2384  3.684147      1\n",
              "2385  3.690184      1\n",
              "2386  3.694602      1\n",
              "2387  3.697739      1\n",
              "\n",
              "[12576 rows x 2 columns]"
            ],
            "text/html": [
              "\n",
              "  <div id=\"df-d3f389b1-3422-4225-9b73-3a0132913153\">\n",
              "    <div class=\"colab-df-container\">\n",
              "      <div>\n",
              "<style scoped>\n",
              "    .dataframe tbody tr th:only-of-type {\n",
              "        vertical-align: middle;\n",
              "    }\n",
              "\n",
              "    .dataframe tbody tr th {\n",
              "        vertical-align: top;\n",
              "    }\n",
              "\n",
              "    .dataframe thead th {\n",
              "        text-align: right;\n",
              "    }\n",
              "</style>\n",
              "<table border=\"1\" class=\"dataframe\">\n",
              "  <thead>\n",
              "    <tr style=\"text-align: right;\">\n",
              "      <th></th>\n",
              "      <th>Value</th>\n",
              "      <th>Label</th>\n",
              "    </tr>\n",
              "  </thead>\n",
              "  <tbody>\n",
              "    <tr>\n",
              "      <th>0</th>\n",
              "      <td>-0.066436</td>\n",
              "      <td>0</td>\n",
              "    </tr>\n",
              "    <tr>\n",
              "      <th>1</th>\n",
              "      <td>0.018802</td>\n",
              "      <td>0</td>\n",
              "    </tr>\n",
              "    <tr>\n",
              "      <th>2</th>\n",
              "      <td>0.101680</td>\n",
              "      <td>0</td>\n",
              "    </tr>\n",
              "    <tr>\n",
              "      <th>3</th>\n",
              "      <td>0.181885</td>\n",
              "      <td>0</td>\n",
              "    </tr>\n",
              "    <tr>\n",
              "      <th>4</th>\n",
              "      <td>0.259121</td>\n",
              "      <td>0</td>\n",
              "    </tr>\n",
              "    <tr>\n",
              "      <th>...</th>\n",
              "      <td>...</td>\n",
              "      <td>...</td>\n",
              "    </tr>\n",
              "    <tr>\n",
              "      <th>2383</th>\n",
              "      <td>3.676107</td>\n",
              "      <td>1</td>\n",
              "    </tr>\n",
              "    <tr>\n",
              "      <th>2384</th>\n",
              "      <td>3.684147</td>\n",
              "      <td>1</td>\n",
              "    </tr>\n",
              "    <tr>\n",
              "      <th>2385</th>\n",
              "      <td>3.690184</td>\n",
              "      <td>1</td>\n",
              "    </tr>\n",
              "    <tr>\n",
              "      <th>2386</th>\n",
              "      <td>3.694602</td>\n",
              "      <td>1</td>\n",
              "    </tr>\n",
              "    <tr>\n",
              "      <th>2387</th>\n",
              "      <td>3.697739</td>\n",
              "      <td>1</td>\n",
              "    </tr>\n",
              "  </tbody>\n",
              "</table>\n",
              "<p>12576 rows × 2 columns</p>\n",
              "</div>\n",
              "      <button class=\"colab-df-convert\" onclick=\"convertToInteractive('df-d3f389b1-3422-4225-9b73-3a0132913153')\"\n",
              "              title=\"Convert this dataframe to an interactive table.\"\n",
              "              style=\"display:none;\">\n",
              "        \n",
              "  <svg xmlns=\"http://www.w3.org/2000/svg\" height=\"24px\"viewBox=\"0 0 24 24\"\n",
              "       width=\"24px\">\n",
              "    <path d=\"M0 0h24v24H0V0z\" fill=\"none\"/>\n",
              "    <path d=\"M18.56 5.44l.94 2.06.94-2.06 2.06-.94-2.06-.94-.94-2.06-.94 2.06-2.06.94zm-11 1L8.5 8.5l.94-2.06 2.06-.94-2.06-.94L8.5 2.5l-.94 2.06-2.06.94zm10 10l.94 2.06.94-2.06 2.06-.94-2.06-.94-.94-2.06-.94 2.06-2.06.94z\"/><path d=\"M17.41 7.96l-1.37-1.37c-.4-.4-.92-.59-1.43-.59-.52 0-1.04.2-1.43.59L10.3 9.45l-7.72 7.72c-.78.78-.78 2.05 0 2.83L4 21.41c.39.39.9.59 1.41.59.51 0 1.02-.2 1.41-.59l7.78-7.78 2.81-2.81c.8-.78.8-2.07 0-2.86zM5.41 20L4 18.59l7.72-7.72 1.47 1.35L5.41 20z\"/>\n",
              "  </svg>\n",
              "      </button>\n",
              "      \n",
              "  <style>\n",
              "    .colab-df-container {\n",
              "      display:flex;\n",
              "      flex-wrap:wrap;\n",
              "      gap: 12px;\n",
              "    }\n",
              "\n",
              "    .colab-df-convert {\n",
              "      background-color: #E8F0FE;\n",
              "      border: none;\n",
              "      border-radius: 50%;\n",
              "      cursor: pointer;\n",
              "      display: none;\n",
              "      fill: #1967D2;\n",
              "      height: 32px;\n",
              "      padding: 0 0 0 0;\n",
              "      width: 32px;\n",
              "    }\n",
              "\n",
              "    .colab-df-convert:hover {\n",
              "      background-color: #E2EBFA;\n",
              "      box-shadow: 0px 1px 2px rgba(60, 64, 67, 0.3), 0px 1px 3px 1px rgba(60, 64, 67, 0.15);\n",
              "      fill: #174EA6;\n",
              "    }\n",
              "\n",
              "    [theme=dark] .colab-df-convert {\n",
              "      background-color: #3B4455;\n",
              "      fill: #D2E3FC;\n",
              "    }\n",
              "\n",
              "    [theme=dark] .colab-df-convert:hover {\n",
              "      background-color: #434B5C;\n",
              "      box-shadow: 0px 1px 3px 1px rgba(0, 0, 0, 0.15);\n",
              "      filter: drop-shadow(0px 1px 2px rgba(0, 0, 0, 0.3));\n",
              "      fill: #FFFFFF;\n",
              "    }\n",
              "  </style>\n",
              "\n",
              "      <script>\n",
              "        const buttonEl =\n",
              "          document.querySelector('#df-d3f389b1-3422-4225-9b73-3a0132913153 button.colab-df-convert');\n",
              "        buttonEl.style.display =\n",
              "          google.colab.kernel.accessAllowed ? 'block' : 'none';\n",
              "\n",
              "        async function convertToInteractive(key) {\n",
              "          const element = document.querySelector('#df-d3f389b1-3422-4225-9b73-3a0132913153');\n",
              "          const dataTable =\n",
              "            await google.colab.kernel.invokeFunction('convertToInteractive',\n",
              "                                                     [key], {});\n",
              "          if (!dataTable) return;\n",
              "\n",
              "          const docLinkHtml = 'Like what you see? Visit the ' +\n",
              "            '<a target=\"_blank\" href=https://colab.research.google.com/notebooks/data_table.ipynb>data table notebook</a>'\n",
              "            + ' to learn more about interactive tables.';\n",
              "          element.innerHTML = '';\n",
              "          dataTable['output_type'] = 'display_data';\n",
              "          await google.colab.output.renderOutput(dataTable, element);\n",
              "          const docLink = document.createElement('div');\n",
              "          docLink.innerHTML = docLinkHtml;\n",
              "          element.appendChild(docLink);\n",
              "        }\n",
              "      </script>\n",
              "    </div>\n",
              "  </div>\n",
              "  "
            ]
          },
          "metadata": {},
          "execution_count": 121
        }
      ]
    },
    {
      "cell_type": "markdown",
      "source": [
        "# Machine Learning for Kaggle"
      ],
      "metadata": {
        "id": "EZ5G_aSdxJ9J"
      }
    },
    {
      "cell_type": "code",
      "source": [
        "root = \"/content/dataset\"\n",
        "dfs = []\n",
        "dir = os.listdir(root)\n",
        "dir.sort()\n",
        "for path in dir:\n",
        "  df = pd.read_csv(os.path.join(root, path), header=None)\n",
        "  dfs.append(df)\n",
        "\n",
        "df = pd.concat(dfs)\n",
        "\n",
        "pose0df = pd.read_csv(os.path.join(root, '0.csv'))\n",
        "pose1df = pd.read_csv(os.path.join(root, '1.csv'))\n",
        "pose2df = pd.read_csv(os.path.join(root, '2.csv'))\n",
        "pose3df = pd.read_csv(os.path.join(root, '3.csv'))"
      ],
      "metadata": {
        "id": "uJ7Mj5j-akE-"
      },
      "execution_count": 133,
      "outputs": []
    },
    {
      "cell_type": "code",
      "source": [
        "df.head(5)"
      ],
      "metadata": {
        "colab": {
          "base_uri": "https://localhost:8080/",
          "height": 300
        },
        "id": "aSwa3l9CSS1O",
        "outputId": "aa93d644-ee69-4e54-f932-3d467ad7470c"
      },
      "execution_count": null,
      "outputs": [
        {
          "output_type": "execute_result",
          "data": {
            "text/plain": [
              "     0    1    2    3     4     5      6     7     8    9   ...    55    56  \\\n",
              "0  26.0  4.0  5.0  8.0  -1.0 -13.0 -109.0 -66.0  -9.0  2.0  ... -28.0  61.0   \n",
              "1 -47.0 -6.0 -5.0 -7.0  13.0  -1.0   35.0 -10.0  10.0 -4.0  ... -25.0  47.0   \n",
              "2 -19.0 -8.0 -8.0 -8.0 -21.0  -6.0  -79.0  12.0   0.0  5.0  ... -83.0   7.0   \n",
              "3   2.0  3.0  0.0  2.0   0.0  22.0  106.0 -14.0 -16.0 -2.0  ... -38.0 -11.0   \n",
              "4   6.0  0.0  0.0 -2.0 -14.0  10.0  -51.0   5.0   7.0  0.0  ...  38.0 -35.0   \n",
              "\n",
              "    57   58    59    60    61     62    63  64  \n",
              "0  4.0  8.0   5.0   4.0  -7.0  -59.0  16.0   0  \n",
              "1  6.0  6.0   5.0  13.0  21.0  111.0  15.0   0  \n",
              "2  7.0  1.0  -8.0   7.0  21.0  114.0  48.0   0  \n",
              "3  4.0  7.0  11.0  33.0  39.0  119.0  43.0   0  \n",
              "4 -8.0  2.0   6.0 -13.0 -24.0 -112.0 -69.0   0  \n",
              "\n",
              "[5 rows x 65 columns]"
            ],
            "text/html": [
              "\n",
              "  <div id=\"df-7b117f51-b864-4fe5-9a9d-984a00d6474d\">\n",
              "    <div class=\"colab-df-container\">\n",
              "      <div>\n",
              "<style scoped>\n",
              "    .dataframe tbody tr th:only-of-type {\n",
              "        vertical-align: middle;\n",
              "    }\n",
              "\n",
              "    .dataframe tbody tr th {\n",
              "        vertical-align: top;\n",
              "    }\n",
              "\n",
              "    .dataframe thead th {\n",
              "        text-align: right;\n",
              "    }\n",
              "</style>\n",
              "<table border=\"1\" class=\"dataframe\">\n",
              "  <thead>\n",
              "    <tr style=\"text-align: right;\">\n",
              "      <th></th>\n",
              "      <th>0</th>\n",
              "      <th>1</th>\n",
              "      <th>2</th>\n",
              "      <th>3</th>\n",
              "      <th>4</th>\n",
              "      <th>5</th>\n",
              "      <th>6</th>\n",
              "      <th>7</th>\n",
              "      <th>8</th>\n",
              "      <th>9</th>\n",
              "      <th>...</th>\n",
              "      <th>55</th>\n",
              "      <th>56</th>\n",
              "      <th>57</th>\n",
              "      <th>58</th>\n",
              "      <th>59</th>\n",
              "      <th>60</th>\n",
              "      <th>61</th>\n",
              "      <th>62</th>\n",
              "      <th>63</th>\n",
              "      <th>64</th>\n",
              "    </tr>\n",
              "  </thead>\n",
              "  <tbody>\n",
              "    <tr>\n",
              "      <th>0</th>\n",
              "      <td>26.0</td>\n",
              "      <td>4.0</td>\n",
              "      <td>5.0</td>\n",
              "      <td>8.0</td>\n",
              "      <td>-1.0</td>\n",
              "      <td>-13.0</td>\n",
              "      <td>-109.0</td>\n",
              "      <td>-66.0</td>\n",
              "      <td>-9.0</td>\n",
              "      <td>2.0</td>\n",
              "      <td>...</td>\n",
              "      <td>-28.0</td>\n",
              "      <td>61.0</td>\n",
              "      <td>4.0</td>\n",
              "      <td>8.0</td>\n",
              "      <td>5.0</td>\n",
              "      <td>4.0</td>\n",
              "      <td>-7.0</td>\n",
              "      <td>-59.0</td>\n",
              "      <td>16.0</td>\n",
              "      <td>0</td>\n",
              "    </tr>\n",
              "    <tr>\n",
              "      <th>1</th>\n",
              "      <td>-47.0</td>\n",
              "      <td>-6.0</td>\n",
              "      <td>-5.0</td>\n",
              "      <td>-7.0</td>\n",
              "      <td>13.0</td>\n",
              "      <td>-1.0</td>\n",
              "      <td>35.0</td>\n",
              "      <td>-10.0</td>\n",
              "      <td>10.0</td>\n",
              "      <td>-4.0</td>\n",
              "      <td>...</td>\n",
              "      <td>-25.0</td>\n",
              "      <td>47.0</td>\n",
              "      <td>6.0</td>\n",
              "      <td>6.0</td>\n",
              "      <td>5.0</td>\n",
              "      <td>13.0</td>\n",
              "      <td>21.0</td>\n",
              "      <td>111.0</td>\n",
              "      <td>15.0</td>\n",
              "      <td>0</td>\n",
              "    </tr>\n",
              "    <tr>\n",
              "      <th>2</th>\n",
              "      <td>-19.0</td>\n",
              "      <td>-8.0</td>\n",
              "      <td>-8.0</td>\n",
              "      <td>-8.0</td>\n",
              "      <td>-21.0</td>\n",
              "      <td>-6.0</td>\n",
              "      <td>-79.0</td>\n",
              "      <td>12.0</td>\n",
              "      <td>0.0</td>\n",
              "      <td>5.0</td>\n",
              "      <td>...</td>\n",
              "      <td>-83.0</td>\n",
              "      <td>7.0</td>\n",
              "      <td>7.0</td>\n",
              "      <td>1.0</td>\n",
              "      <td>-8.0</td>\n",
              "      <td>7.0</td>\n",
              "      <td>21.0</td>\n",
              "      <td>114.0</td>\n",
              "      <td>48.0</td>\n",
              "      <td>0</td>\n",
              "    </tr>\n",
              "    <tr>\n",
              "      <th>3</th>\n",
              "      <td>2.0</td>\n",
              "      <td>3.0</td>\n",
              "      <td>0.0</td>\n",
              "      <td>2.0</td>\n",
              "      <td>0.0</td>\n",
              "      <td>22.0</td>\n",
              "      <td>106.0</td>\n",
              "      <td>-14.0</td>\n",
              "      <td>-16.0</td>\n",
              "      <td>-2.0</td>\n",
              "      <td>...</td>\n",
              "      <td>-38.0</td>\n",
              "      <td>-11.0</td>\n",
              "      <td>4.0</td>\n",
              "      <td>7.0</td>\n",
              "      <td>11.0</td>\n",
              "      <td>33.0</td>\n",
              "      <td>39.0</td>\n",
              "      <td>119.0</td>\n",
              "      <td>43.0</td>\n",
              "      <td>0</td>\n",
              "    </tr>\n",
              "    <tr>\n",
              "      <th>4</th>\n",
              "      <td>6.0</td>\n",
              "      <td>0.0</td>\n",
              "      <td>0.0</td>\n",
              "      <td>-2.0</td>\n",
              "      <td>-14.0</td>\n",
              "      <td>10.0</td>\n",
              "      <td>-51.0</td>\n",
              "      <td>5.0</td>\n",
              "      <td>7.0</td>\n",
              "      <td>0.0</td>\n",
              "      <td>...</td>\n",
              "      <td>38.0</td>\n",
              "      <td>-35.0</td>\n",
              "      <td>-8.0</td>\n",
              "      <td>2.0</td>\n",
              "      <td>6.0</td>\n",
              "      <td>-13.0</td>\n",
              "      <td>-24.0</td>\n",
              "      <td>-112.0</td>\n",
              "      <td>-69.0</td>\n",
              "      <td>0</td>\n",
              "    </tr>\n",
              "  </tbody>\n",
              "</table>\n",
              "<p>5 rows × 65 columns</p>\n",
              "</div>\n",
              "      <button class=\"colab-df-convert\" onclick=\"convertToInteractive('df-7b117f51-b864-4fe5-9a9d-984a00d6474d')\"\n",
              "              title=\"Convert this dataframe to an interactive table.\"\n",
              "              style=\"display:none;\">\n",
              "        \n",
              "  <svg xmlns=\"http://www.w3.org/2000/svg\" height=\"24px\"viewBox=\"0 0 24 24\"\n",
              "       width=\"24px\">\n",
              "    <path d=\"M0 0h24v24H0V0z\" fill=\"none\"/>\n",
              "    <path d=\"M18.56 5.44l.94 2.06.94-2.06 2.06-.94-2.06-.94-.94-2.06-.94 2.06-2.06.94zm-11 1L8.5 8.5l.94-2.06 2.06-.94-2.06-.94L8.5 2.5l-.94 2.06-2.06.94zm10 10l.94 2.06.94-2.06 2.06-.94-2.06-.94-.94-2.06-.94 2.06-2.06.94z\"/><path d=\"M17.41 7.96l-1.37-1.37c-.4-.4-.92-.59-1.43-.59-.52 0-1.04.2-1.43.59L10.3 9.45l-7.72 7.72c-.78.78-.78 2.05 0 2.83L4 21.41c.39.39.9.59 1.41.59.51 0 1.02-.2 1.41-.59l7.78-7.78 2.81-2.81c.8-.78.8-2.07 0-2.86zM5.41 20L4 18.59l7.72-7.72 1.47 1.35L5.41 20z\"/>\n",
              "  </svg>\n",
              "      </button>\n",
              "      \n",
              "  <style>\n",
              "    .colab-df-container {\n",
              "      display:flex;\n",
              "      flex-wrap:wrap;\n",
              "      gap: 12px;\n",
              "    }\n",
              "\n",
              "    .colab-df-convert {\n",
              "      background-color: #E8F0FE;\n",
              "      border: none;\n",
              "      border-radius: 50%;\n",
              "      cursor: pointer;\n",
              "      display: none;\n",
              "      fill: #1967D2;\n",
              "      height: 32px;\n",
              "      padding: 0 0 0 0;\n",
              "      width: 32px;\n",
              "    }\n",
              "\n",
              "    .colab-df-convert:hover {\n",
              "      background-color: #E2EBFA;\n",
              "      box-shadow: 0px 1px 2px rgba(60, 64, 67, 0.3), 0px 1px 3px 1px rgba(60, 64, 67, 0.15);\n",
              "      fill: #174EA6;\n",
              "    }\n",
              "\n",
              "    [theme=dark] .colab-df-convert {\n",
              "      background-color: #3B4455;\n",
              "      fill: #D2E3FC;\n",
              "    }\n",
              "\n",
              "    [theme=dark] .colab-df-convert:hover {\n",
              "      background-color: #434B5C;\n",
              "      box-shadow: 0px 1px 3px 1px rgba(0, 0, 0, 0.15);\n",
              "      filter: drop-shadow(0px 1px 2px rgba(0, 0, 0, 0.3));\n",
              "      fill: #FFFFFF;\n",
              "    }\n",
              "  </style>\n",
              "\n",
              "      <script>\n",
              "        const buttonEl =\n",
              "          document.querySelector('#df-7b117f51-b864-4fe5-9a9d-984a00d6474d button.colab-df-convert');\n",
              "        buttonEl.style.display =\n",
              "          google.colab.kernel.accessAllowed ? 'block' : 'none';\n",
              "\n",
              "        async function convertToInteractive(key) {\n",
              "          const element = document.querySelector('#df-7b117f51-b864-4fe5-9a9d-984a00d6474d');\n",
              "          const dataTable =\n",
              "            await google.colab.kernel.invokeFunction('convertToInteractive',\n",
              "                                                     [key], {});\n",
              "          if (!dataTable) return;\n",
              "\n",
              "          const docLinkHtml = 'Like what you see? Visit the ' +\n",
              "            '<a target=\"_blank\" href=https://colab.research.google.com/notebooks/data_table.ipynb>data table notebook</a>'\n",
              "            + ' to learn more about interactive tables.';\n",
              "          element.innerHTML = '';\n",
              "          dataTable['output_type'] = 'display_data';\n",
              "          await google.colab.output.renderOutput(dataTable, element);\n",
              "          const docLink = document.createElement('div');\n",
              "          docLink.innerHTML = docLinkHtml;\n",
              "          element.appendChild(docLink);\n",
              "        }\n",
              "      </script>\n",
              "    </div>\n",
              "  </div>\n",
              "  "
            ]
          },
          "metadata": {},
          "execution_count": 9
        }
      ]
    },
    {
      "cell_type": "code",
      "source": [
        "df.describe()"
      ],
      "metadata": {
        "colab": {
          "base_uri": "https://localhost:8080/",
          "height": 394
        },
        "id": "evLjobRiO2_L",
        "outputId": "82f4e523-aaab-4a32-9094-8318205ceebf"
      },
      "execution_count": null,
      "outputs": [
        {
          "output_type": "execute_result",
          "data": {
            "text/plain": [
              "                 0             1             2             3             4   \\\n",
              "count  11678.000000  11678.000000  11678.000000  11678.000000  11678.000000   \n",
              "mean      50.872079     53.233589     48.150624     57.130963     56.732816   \n",
              "std        8.179167      6.065401      7.447678      5.724366      8.380470   \n",
              "min        0.000000      0.000000      0.000000      0.000000      0.000000   \n",
              "25%       47.136564     51.546392     44.776119     54.615385     52.112676   \n",
              "50%       50.660793     53.092784     47.761194     56.923077     56.807512   \n",
              "75%       54.185022     55.154639     52.238806     60.000000     61.502347   \n",
              "max      100.000000    100.000000    100.000000    100.000000    100.000000   \n",
              "\n",
              "                 5             6             7             8             9   \\\n",
              "count  11678.000000  11678.000000  11678.000000  11678.000000  11678.000000   \n",
              "mean      48.773137     49.697000     50.133133     46.132509     54.421273   \n",
              "std       10.365272      9.839205      6.066494      7.647196      5.060368   \n",
              "min        0.000000      0.000000      0.000000      0.000000      0.000000   \n",
              "25%       42.971888     47.843137     47.244094     42.616034     52.991453   \n",
              "50%       48.594378     49.803922     50.000000     45.991561     54.273504   \n",
              "75%       54.216867     51.764706     52.755906     48.945148     55.982906   \n",
              "max      100.000000    100.000000    100.000000    100.000000    100.000000   \n",
              "\n",
              "       ...            54            55            56            57  \\\n",
              "count  ...  11678.000000  11678.000000  11678.000000  11678.000000   \n",
              "mean   ...     49.559823     52.507151     47.392198     54.617758   \n",
              "std    ...      9.918824      6.264047      7.491549      5.152449   \n",
              "min    ...      0.000000      0.000000      0.000000      0.000000   \n",
              "25%    ...     47.843137     49.586777     44.032922     53.218884   \n",
              "50%    ...     49.803922     52.479339     47.325103     54.506438   \n",
              "75%    ...     51.372549     55.371901     50.205761     56.223176   \n",
              "max    ...    100.000000    100.000000    100.000000    100.000000   \n",
              "\n",
              "                 58            59            60            61            62  \\\n",
              "count  11678.000000  11678.000000  11678.000000  11678.000000  11678.000000   \n",
              "mean      60.308386     58.635725     48.287941     50.049095     49.627723   \n",
              "std        6.626344      5.907528      8.376281     10.020032      9.905779   \n",
              "min        0.000000      0.000000      0.000000      0.000000      0.000000   \n",
              "25%       57.333333     56.000000     43.661972     44.705882     47.843137   \n",
              "50%       60.000000     58.400000     48.356808     49.803922     49.803922   \n",
              "75%       64.000000     61.600000     53.051643     55.294118     51.372549   \n",
              "max      100.000000    100.000000    100.000000    100.000000    100.000000   \n",
              "\n",
              "                 63  \n",
              "count  11678.000000  \n",
              "mean      49.159723  \n",
              "std        6.187287  \n",
              "min        0.000000  \n",
              "25%       46.215139  \n",
              "50%       49.003984  \n",
              "75%       51.792829  \n",
              "max      100.000000  \n",
              "\n",
              "[8 rows x 64 columns]"
            ],
            "text/html": [
              "\n",
              "  <div id=\"df-91356fc7-17ef-4674-9067-557b36b1633b\">\n",
              "    <div class=\"colab-df-container\">\n",
              "      <div>\n",
              "<style scoped>\n",
              "    .dataframe tbody tr th:only-of-type {\n",
              "        vertical-align: middle;\n",
              "    }\n",
              "\n",
              "    .dataframe tbody tr th {\n",
              "        vertical-align: top;\n",
              "    }\n",
              "\n",
              "    .dataframe thead th {\n",
              "        text-align: right;\n",
              "    }\n",
              "</style>\n",
              "<table border=\"1\" class=\"dataframe\">\n",
              "  <thead>\n",
              "    <tr style=\"text-align: right;\">\n",
              "      <th></th>\n",
              "      <th>0</th>\n",
              "      <th>1</th>\n",
              "      <th>2</th>\n",
              "      <th>3</th>\n",
              "      <th>4</th>\n",
              "      <th>5</th>\n",
              "      <th>6</th>\n",
              "      <th>7</th>\n",
              "      <th>8</th>\n",
              "      <th>9</th>\n",
              "      <th>...</th>\n",
              "      <th>54</th>\n",
              "      <th>55</th>\n",
              "      <th>56</th>\n",
              "      <th>57</th>\n",
              "      <th>58</th>\n",
              "      <th>59</th>\n",
              "      <th>60</th>\n",
              "      <th>61</th>\n",
              "      <th>62</th>\n",
              "      <th>63</th>\n",
              "    </tr>\n",
              "  </thead>\n",
              "  <tbody>\n",
              "    <tr>\n",
              "      <th>count</th>\n",
              "      <td>11678.000000</td>\n",
              "      <td>11678.000000</td>\n",
              "      <td>11678.000000</td>\n",
              "      <td>11678.000000</td>\n",
              "      <td>11678.000000</td>\n",
              "      <td>11678.000000</td>\n",
              "      <td>11678.000000</td>\n",
              "      <td>11678.000000</td>\n",
              "      <td>11678.000000</td>\n",
              "      <td>11678.000000</td>\n",
              "      <td>...</td>\n",
              "      <td>11678.000000</td>\n",
              "      <td>11678.000000</td>\n",
              "      <td>11678.000000</td>\n",
              "      <td>11678.000000</td>\n",
              "      <td>11678.000000</td>\n",
              "      <td>11678.000000</td>\n",
              "      <td>11678.000000</td>\n",
              "      <td>11678.000000</td>\n",
              "      <td>11678.000000</td>\n",
              "      <td>11678.000000</td>\n",
              "    </tr>\n",
              "    <tr>\n",
              "      <th>mean</th>\n",
              "      <td>50.872079</td>\n",
              "      <td>53.233589</td>\n",
              "      <td>48.150624</td>\n",
              "      <td>57.130963</td>\n",
              "      <td>56.732816</td>\n",
              "      <td>48.773137</td>\n",
              "      <td>49.697000</td>\n",
              "      <td>50.133133</td>\n",
              "      <td>46.132509</td>\n",
              "      <td>54.421273</td>\n",
              "      <td>...</td>\n",
              "      <td>49.559823</td>\n",
              "      <td>52.507151</td>\n",
              "      <td>47.392198</td>\n",
              "      <td>54.617758</td>\n",
              "      <td>60.308386</td>\n",
              "      <td>58.635725</td>\n",
              "      <td>48.287941</td>\n",
              "      <td>50.049095</td>\n",
              "      <td>49.627723</td>\n",
              "      <td>49.159723</td>\n",
              "    </tr>\n",
              "    <tr>\n",
              "      <th>std</th>\n",
              "      <td>8.179167</td>\n",
              "      <td>6.065401</td>\n",
              "      <td>7.447678</td>\n",
              "      <td>5.724366</td>\n",
              "      <td>8.380470</td>\n",
              "      <td>10.365272</td>\n",
              "      <td>9.839205</td>\n",
              "      <td>6.066494</td>\n",
              "      <td>7.647196</td>\n",
              "      <td>5.060368</td>\n",
              "      <td>...</td>\n",
              "      <td>9.918824</td>\n",
              "      <td>6.264047</td>\n",
              "      <td>7.491549</td>\n",
              "      <td>5.152449</td>\n",
              "      <td>6.626344</td>\n",
              "      <td>5.907528</td>\n",
              "      <td>8.376281</td>\n",
              "      <td>10.020032</td>\n",
              "      <td>9.905779</td>\n",
              "      <td>6.187287</td>\n",
              "    </tr>\n",
              "    <tr>\n",
              "      <th>min</th>\n",
              "      <td>0.000000</td>\n",
              "      <td>0.000000</td>\n",
              "      <td>0.000000</td>\n",
              "      <td>0.000000</td>\n",
              "      <td>0.000000</td>\n",
              "      <td>0.000000</td>\n",
              "      <td>0.000000</td>\n",
              "      <td>0.000000</td>\n",
              "      <td>0.000000</td>\n",
              "      <td>0.000000</td>\n",
              "      <td>...</td>\n",
              "      <td>0.000000</td>\n",
              "      <td>0.000000</td>\n",
              "      <td>0.000000</td>\n",
              "      <td>0.000000</td>\n",
              "      <td>0.000000</td>\n",
              "      <td>0.000000</td>\n",
              "      <td>0.000000</td>\n",
              "      <td>0.000000</td>\n",
              "      <td>0.000000</td>\n",
              "      <td>0.000000</td>\n",
              "    </tr>\n",
              "    <tr>\n",
              "      <th>25%</th>\n",
              "      <td>47.136564</td>\n",
              "      <td>51.546392</td>\n",
              "      <td>44.776119</td>\n",
              "      <td>54.615385</td>\n",
              "      <td>52.112676</td>\n",
              "      <td>42.971888</td>\n",
              "      <td>47.843137</td>\n",
              "      <td>47.244094</td>\n",
              "      <td>42.616034</td>\n",
              "      <td>52.991453</td>\n",
              "      <td>...</td>\n",
              "      <td>47.843137</td>\n",
              "      <td>49.586777</td>\n",
              "      <td>44.032922</td>\n",
              "      <td>53.218884</td>\n",
              "      <td>57.333333</td>\n",
              "      <td>56.000000</td>\n",
              "      <td>43.661972</td>\n",
              "      <td>44.705882</td>\n",
              "      <td>47.843137</td>\n",
              "      <td>46.215139</td>\n",
              "    </tr>\n",
              "    <tr>\n",
              "      <th>50%</th>\n",
              "      <td>50.660793</td>\n",
              "      <td>53.092784</td>\n",
              "      <td>47.761194</td>\n",
              "      <td>56.923077</td>\n",
              "      <td>56.807512</td>\n",
              "      <td>48.594378</td>\n",
              "      <td>49.803922</td>\n",
              "      <td>50.000000</td>\n",
              "      <td>45.991561</td>\n",
              "      <td>54.273504</td>\n",
              "      <td>...</td>\n",
              "      <td>49.803922</td>\n",
              "      <td>52.479339</td>\n",
              "      <td>47.325103</td>\n",
              "      <td>54.506438</td>\n",
              "      <td>60.000000</td>\n",
              "      <td>58.400000</td>\n",
              "      <td>48.356808</td>\n",
              "      <td>49.803922</td>\n",
              "      <td>49.803922</td>\n",
              "      <td>49.003984</td>\n",
              "    </tr>\n",
              "    <tr>\n",
              "      <th>75%</th>\n",
              "      <td>54.185022</td>\n",
              "      <td>55.154639</td>\n",
              "      <td>52.238806</td>\n",
              "      <td>60.000000</td>\n",
              "      <td>61.502347</td>\n",
              "      <td>54.216867</td>\n",
              "      <td>51.764706</td>\n",
              "      <td>52.755906</td>\n",
              "      <td>48.945148</td>\n",
              "      <td>55.982906</td>\n",
              "      <td>...</td>\n",
              "      <td>51.372549</td>\n",
              "      <td>55.371901</td>\n",
              "      <td>50.205761</td>\n",
              "      <td>56.223176</td>\n",
              "      <td>64.000000</td>\n",
              "      <td>61.600000</td>\n",
              "      <td>53.051643</td>\n",
              "      <td>55.294118</td>\n",
              "      <td>51.372549</td>\n",
              "      <td>51.792829</td>\n",
              "    </tr>\n",
              "    <tr>\n",
              "      <th>max</th>\n",
              "      <td>100.000000</td>\n",
              "      <td>100.000000</td>\n",
              "      <td>100.000000</td>\n",
              "      <td>100.000000</td>\n",
              "      <td>100.000000</td>\n",
              "      <td>100.000000</td>\n",
              "      <td>100.000000</td>\n",
              "      <td>100.000000</td>\n",
              "      <td>100.000000</td>\n",
              "      <td>100.000000</td>\n",
              "      <td>...</td>\n",
              "      <td>100.000000</td>\n",
              "      <td>100.000000</td>\n",
              "      <td>100.000000</td>\n",
              "      <td>100.000000</td>\n",
              "      <td>100.000000</td>\n",
              "      <td>100.000000</td>\n",
              "      <td>100.000000</td>\n",
              "      <td>100.000000</td>\n",
              "      <td>100.000000</td>\n",
              "      <td>100.000000</td>\n",
              "    </tr>\n",
              "  </tbody>\n",
              "</table>\n",
              "<p>8 rows × 64 columns</p>\n",
              "</div>\n",
              "      <button class=\"colab-df-convert\" onclick=\"convertToInteractive('df-91356fc7-17ef-4674-9067-557b36b1633b')\"\n",
              "              title=\"Convert this dataframe to an interactive table.\"\n",
              "              style=\"display:none;\">\n",
              "        \n",
              "  <svg xmlns=\"http://www.w3.org/2000/svg\" height=\"24px\"viewBox=\"0 0 24 24\"\n",
              "       width=\"24px\">\n",
              "    <path d=\"M0 0h24v24H0V0z\" fill=\"none\"/>\n",
              "    <path d=\"M18.56 5.44l.94 2.06.94-2.06 2.06-.94-2.06-.94-.94-2.06-.94 2.06-2.06.94zm-11 1L8.5 8.5l.94-2.06 2.06-.94-2.06-.94L8.5 2.5l-.94 2.06-2.06.94zm10 10l.94 2.06.94-2.06 2.06-.94-2.06-.94-.94-2.06-.94 2.06-2.06.94z\"/><path d=\"M17.41 7.96l-1.37-1.37c-.4-.4-.92-.59-1.43-.59-.52 0-1.04.2-1.43.59L10.3 9.45l-7.72 7.72c-.78.78-.78 2.05 0 2.83L4 21.41c.39.39.9.59 1.41.59.51 0 1.02-.2 1.41-.59l7.78-7.78 2.81-2.81c.8-.78.8-2.07 0-2.86zM5.41 20L4 18.59l7.72-7.72 1.47 1.35L5.41 20z\"/>\n",
              "  </svg>\n",
              "      </button>\n",
              "      \n",
              "  <style>\n",
              "    .colab-df-container {\n",
              "      display:flex;\n",
              "      flex-wrap:wrap;\n",
              "      gap: 12px;\n",
              "    }\n",
              "\n",
              "    .colab-df-convert {\n",
              "      background-color: #E8F0FE;\n",
              "      border: none;\n",
              "      border-radius: 50%;\n",
              "      cursor: pointer;\n",
              "      display: none;\n",
              "      fill: #1967D2;\n",
              "      height: 32px;\n",
              "      padding: 0 0 0 0;\n",
              "      width: 32px;\n",
              "    }\n",
              "\n",
              "    .colab-df-convert:hover {\n",
              "      background-color: #E2EBFA;\n",
              "      box-shadow: 0px 1px 2px rgba(60, 64, 67, 0.3), 0px 1px 3px 1px rgba(60, 64, 67, 0.15);\n",
              "      fill: #174EA6;\n",
              "    }\n",
              "\n",
              "    [theme=dark] .colab-df-convert {\n",
              "      background-color: #3B4455;\n",
              "      fill: #D2E3FC;\n",
              "    }\n",
              "\n",
              "    [theme=dark] .colab-df-convert:hover {\n",
              "      background-color: #434B5C;\n",
              "      box-shadow: 0px 1px 3px 1px rgba(0, 0, 0, 0.15);\n",
              "      filter: drop-shadow(0px 1px 2px rgba(0, 0, 0, 0.3));\n",
              "      fill: #FFFFFF;\n",
              "    }\n",
              "  </style>\n",
              "\n",
              "      <script>\n",
              "        const buttonEl =\n",
              "          document.querySelector('#df-91356fc7-17ef-4674-9067-557b36b1633b button.colab-df-convert');\n",
              "        buttonEl.style.display =\n",
              "          google.colab.kernel.accessAllowed ? 'block' : 'none';\n",
              "\n",
              "        async function convertToInteractive(key) {\n",
              "          const element = document.querySelector('#df-91356fc7-17ef-4674-9067-557b36b1633b');\n",
              "          const dataTable =\n",
              "            await google.colab.kernel.invokeFunction('convertToInteractive',\n",
              "                                                     [key], {});\n",
              "          if (!dataTable) return;\n",
              "\n",
              "          const docLinkHtml = 'Like what you see? Visit the ' +\n",
              "            '<a target=\"_blank\" href=https://colab.research.google.com/notebooks/data_table.ipynb>data table notebook</a>'\n",
              "            + ' to learn more about interactive tables.';\n",
              "          element.innerHTML = '';\n",
              "          dataTable['output_type'] = 'display_data';\n",
              "          await google.colab.output.renderOutput(dataTable, element);\n",
              "          const docLink = document.createElement('div');\n",
              "          docLink.innerHTML = docLinkHtml;\n",
              "          element.appendChild(docLink);\n",
              "        }\n",
              "      </script>\n",
              "    </div>\n",
              "  </div>\n",
              "  "
            ]
          },
          "metadata": {},
          "execution_count": 47
        }
      ]
    },
    {
      "cell_type": "code",
      "source": [
        "print(f\"Everything: ({df.shape[0]},{df.shape[1]})\")\n",
        "print(f\"Pose 0: ({pose0df.shape[0]},{pose0df.shape[1]})\")\n",
        "print(f\"Pose 1: ({pose1df.shape[0]},{pose1df.shape[1]})\")\n",
        "print(f\"Pose 2: ({pose2df.shape[0]},{pose2df.shape[1]})\")\n",
        "print(f\"Pose 3: ({pose3df.shape[0]},{pose3df.shape[1]})\")"
      ],
      "metadata": {
        "colab": {
          "base_uri": "https://localhost:8080/"
        },
        "id": "MRWv3_coE7CR",
        "outputId": "19bf936c-72c2-4768-e431-55aa2792e0f5"
      },
      "execution_count": null,
      "outputs": [
        {
          "output_type": "stream",
          "name": "stdout",
          "text": [
            "Everything: (11678,65)\n",
            "Pose 0: (2909,65)\n",
            "Pose 1: (2902,65)\n",
            "Pose 2: (2942,65)\n",
            "Pose 3: (2921,65)\n"
          ]
        }
      ]
    },
    {
      "cell_type": "code",
      "source": [
        "# preprocess for LGBM \n",
        "# don't use MinMax for DNN\n",
        "scaler = preprocessing.MinMaxScaler((0, 100))\n",
        "scaler.fit(df.iloc[:, :-1])\n",
        "df.iloc[:, :-1] = scaler.transform(df.iloc[:, :-1])"
      ],
      "metadata": {
        "id": "k3fYj5WWQOAU"
      },
      "execution_count": null,
      "outputs": []
    },
    {
      "cell_type": "code",
      "source": [
        "df = shuffle(df)"
      ],
      "metadata": {
        "id": "nQ6_Zb0EWJF6"
      },
      "execution_count": 134,
      "outputs": []
    },
    {
      "cell_type": "code",
      "source": [
        "y = df.iloc[:, -1].copy()\n",
        "del df[df.columns[-1]]"
      ],
      "metadata": {
        "id": "Q4IPIgWPgXC9"
      },
      "execution_count": 135,
      "outputs": []
    },
    {
      "cell_type": "code",
      "source": [
        "xtrain, xtest, ytrain, ytest = train_test_split(df, y, test_size=0.2, random_state=42)"
      ],
      "metadata": {
        "id": "Zclq2zPfWnfw"
      },
      "execution_count": 136,
      "outputs": []
    },
    {
      "cell_type": "code",
      "source": [
        "print(f\"Train X: ({xtrain.shape[0]},{xtrain.shape[1]})\")\n",
        "print(f\"Train Y: {ytrain.shape}\")\n",
        "print(f\"Test X: ({xtest.shape[0]},{xtest.shape[1]})\")\n",
        "print(f\"Test Y: {ytest.shape}\")"
      ],
      "metadata": {
        "colab": {
          "base_uri": "https://localhost:8080/"
        },
        "id": "E7-gGdNOqhyS",
        "outputId": "93b4463f-64ac-410b-98be-aed5671a4e87"
      },
      "execution_count": 137,
      "outputs": [
        {
          "output_type": "stream",
          "name": "stdout",
          "text": [
            "Train X: (9342,64)\n",
            "Train Y: (9342,)\n",
            "Test X: (2336,64)\n",
            "Test Y: (2336,)\n"
          ]
        }
      ]
    },
    {
      "cell_type": "code",
      "source": [
        "# one-hot for K-Nearest\n",
        "dummy = pd.get_dummies(ytrain)\n",
        "dummy2 = pd.get_dummies(ytest)"
      ],
      "metadata": {
        "id": "kdo4nZfCWYyz"
      },
      "execution_count": 138,
      "outputs": []
    },
    {
      "cell_type": "markdown",
      "source": [
        "# ML Models Training\n",
        "\n",
        "Base on this article [Paper](http://pen.ius.edu.ba/index.php/pen/article/view/1293/602 )"
      ],
      "metadata": {
        "id": "Cp8Zd05IrOQP"
      }
    },
    {
      "cell_type": "code",
      "source": [
        "#@title LightBGM\n",
        "import lightgbm as lgb"
      ],
      "metadata": {
        "id": "G0hELYQPrBki"
      },
      "execution_count": 144,
      "outputs": []
    },
    {
      "cell_type": "code",
      "source": [
        "clf = lgb.LGBMClassifier()\n",
        "clf.fit(xtrain, ytrain)"
      ],
      "metadata": {
        "id": "8tN2VsL5r73r",
        "colab": {
          "base_uri": "https://localhost:8080/",
          "height": 75
        },
        "outputId": "ccbeb750-ed88-4d81-bd4d-81e9539ba1a3"
      },
      "execution_count": 145,
      "outputs": [
        {
          "output_type": "execute_result",
          "data": {
            "text/plain": [
              "LGBMClassifier()"
            ],
            "text/html": [
              "<style>#sk-container-id-1 {color: black;background-color: white;}#sk-container-id-1 pre{padding: 0;}#sk-container-id-1 div.sk-toggleable {background-color: white;}#sk-container-id-1 label.sk-toggleable__label {cursor: pointer;display: block;width: 100%;margin-bottom: 0;padding: 0.3em;box-sizing: border-box;text-align: center;}#sk-container-id-1 label.sk-toggleable__label-arrow:before {content: \"▸\";float: left;margin-right: 0.25em;color: #696969;}#sk-container-id-1 label.sk-toggleable__label-arrow:hover:before {color: black;}#sk-container-id-1 div.sk-estimator:hover label.sk-toggleable__label-arrow:before {color: black;}#sk-container-id-1 div.sk-toggleable__content {max-height: 0;max-width: 0;overflow: hidden;text-align: left;background-color: #f0f8ff;}#sk-container-id-1 div.sk-toggleable__content pre {margin: 0.2em;color: black;border-radius: 0.25em;background-color: #f0f8ff;}#sk-container-id-1 input.sk-toggleable__control:checked~div.sk-toggleable__content {max-height: 200px;max-width: 100%;overflow: auto;}#sk-container-id-1 input.sk-toggleable__control:checked~label.sk-toggleable__label-arrow:before {content: \"▾\";}#sk-container-id-1 div.sk-estimator input.sk-toggleable__control:checked~label.sk-toggleable__label {background-color: #d4ebff;}#sk-container-id-1 div.sk-label input.sk-toggleable__control:checked~label.sk-toggleable__label {background-color: #d4ebff;}#sk-container-id-1 input.sk-hidden--visually {border: 0;clip: rect(1px 1px 1px 1px);clip: rect(1px, 1px, 1px, 1px);height: 1px;margin: -1px;overflow: hidden;padding: 0;position: absolute;width: 1px;}#sk-container-id-1 div.sk-estimator {font-family: monospace;background-color: #f0f8ff;border: 1px dotted black;border-radius: 0.25em;box-sizing: border-box;margin-bottom: 0.5em;}#sk-container-id-1 div.sk-estimator:hover {background-color: #d4ebff;}#sk-container-id-1 div.sk-parallel-item::after {content: \"\";width: 100%;border-bottom: 1px solid gray;flex-grow: 1;}#sk-container-id-1 div.sk-label:hover label.sk-toggleable__label {background-color: #d4ebff;}#sk-container-id-1 div.sk-serial::before {content: \"\";position: absolute;border-left: 1px solid gray;box-sizing: border-box;top: 0;bottom: 0;left: 50%;z-index: 0;}#sk-container-id-1 div.sk-serial {display: flex;flex-direction: column;align-items: center;background-color: white;padding-right: 0.2em;padding-left: 0.2em;position: relative;}#sk-container-id-1 div.sk-item {position: relative;z-index: 1;}#sk-container-id-1 div.sk-parallel {display: flex;align-items: stretch;justify-content: center;background-color: white;position: relative;}#sk-container-id-1 div.sk-item::before, #sk-container-id-1 div.sk-parallel-item::before {content: \"\";position: absolute;border-left: 1px solid gray;box-sizing: border-box;top: 0;bottom: 0;left: 50%;z-index: -1;}#sk-container-id-1 div.sk-parallel-item {display: flex;flex-direction: column;z-index: 1;position: relative;background-color: white;}#sk-container-id-1 div.sk-parallel-item:first-child::after {align-self: flex-end;width: 50%;}#sk-container-id-1 div.sk-parallel-item:last-child::after {align-self: flex-start;width: 50%;}#sk-container-id-1 div.sk-parallel-item:only-child::after {width: 0;}#sk-container-id-1 div.sk-dashed-wrapped {border: 1px dashed gray;margin: 0 0.4em 0.5em 0.4em;box-sizing: border-box;padding-bottom: 0.4em;background-color: white;}#sk-container-id-1 div.sk-label label {font-family: monospace;font-weight: bold;display: inline-block;line-height: 1.2em;}#sk-container-id-1 div.sk-label-container {text-align: center;}#sk-container-id-1 div.sk-container {/* jupyter's `normalize.less` sets `[hidden] { display: none; }` but bootstrap.min.css set `[hidden] { display: none !important; }` so we also need the `!important` here to be able to override the default hidden behavior on the sphinx rendered scikit-learn.org. See: https://github.com/scikit-learn/scikit-learn/issues/21755 */display: inline-block !important;position: relative;}#sk-container-id-1 div.sk-text-repr-fallback {display: none;}</style><div id=\"sk-container-id-1\" class=\"sk-top-container\"><div class=\"sk-text-repr-fallback\"><pre>LGBMClassifier()</pre><b>In a Jupyter environment, please rerun this cell to show the HTML representation or trust the notebook. <br />On GitHub, the HTML representation is unable to render, please try loading this page with nbviewer.org.</b></div><div class=\"sk-container\" hidden><div class=\"sk-item\"><div class=\"sk-estimator sk-toggleable\"><input class=\"sk-toggleable__control sk-hidden--visually\" id=\"sk-estimator-id-1\" type=\"checkbox\" checked><label for=\"sk-estimator-id-1\" class=\"sk-toggleable__label sk-toggleable__label-arrow\">LGBMClassifier</label><div class=\"sk-toggleable__content\"><pre>LGBMClassifier()</pre></div></div></div></div></div>"
            ]
          },
          "metadata": {},
          "execution_count": 145
        }
      ]
    },
    {
      "cell_type": "code",
      "source": [
        "ypred = clf.predict(xtest)"
      ],
      "metadata": {
        "id": "hK_xMF6ztIwV"
      },
      "execution_count": 146,
      "outputs": []
    },
    {
      "cell_type": "code",
      "source": [
        "#@title K-Nearest and Weighted K-Nearest\n",
        "neigh = KNeighborsClassifier()\n",
        "neigh.fit(xtrain, dummy)"
      ],
      "metadata": {
        "colab": {
          "base_uri": "https://localhost:8080/",
          "height": 75
        },
        "id": "6DPE2S3MrpJQ",
        "outputId": "2f142bdc-5e6f-456e-91e0-a453ca2f3ceb"
      },
      "execution_count": null,
      "outputs": [
        {
          "output_type": "execute_result",
          "data": {
            "text/plain": [
              "KNeighborsClassifier()"
            ],
            "text/html": [
              "<style>#sk-container-id-5 {color: black;background-color: white;}#sk-container-id-5 pre{padding: 0;}#sk-container-id-5 div.sk-toggleable {background-color: white;}#sk-container-id-5 label.sk-toggleable__label {cursor: pointer;display: block;width: 100%;margin-bottom: 0;padding: 0.3em;box-sizing: border-box;text-align: center;}#sk-container-id-5 label.sk-toggleable__label-arrow:before {content: \"▸\";float: left;margin-right: 0.25em;color: #696969;}#sk-container-id-5 label.sk-toggleable__label-arrow:hover:before {color: black;}#sk-container-id-5 div.sk-estimator:hover label.sk-toggleable__label-arrow:before {color: black;}#sk-container-id-5 div.sk-toggleable__content {max-height: 0;max-width: 0;overflow: hidden;text-align: left;background-color: #f0f8ff;}#sk-container-id-5 div.sk-toggleable__content pre {margin: 0.2em;color: black;border-radius: 0.25em;background-color: #f0f8ff;}#sk-container-id-5 input.sk-toggleable__control:checked~div.sk-toggleable__content {max-height: 200px;max-width: 100%;overflow: auto;}#sk-container-id-5 input.sk-toggleable__control:checked~label.sk-toggleable__label-arrow:before {content: \"▾\";}#sk-container-id-5 div.sk-estimator input.sk-toggleable__control:checked~label.sk-toggleable__label {background-color: #d4ebff;}#sk-container-id-5 div.sk-label input.sk-toggleable__control:checked~label.sk-toggleable__label {background-color: #d4ebff;}#sk-container-id-5 input.sk-hidden--visually {border: 0;clip: rect(1px 1px 1px 1px);clip: rect(1px, 1px, 1px, 1px);height: 1px;margin: -1px;overflow: hidden;padding: 0;position: absolute;width: 1px;}#sk-container-id-5 div.sk-estimator {font-family: monospace;background-color: #f0f8ff;border: 1px dotted black;border-radius: 0.25em;box-sizing: border-box;margin-bottom: 0.5em;}#sk-container-id-5 div.sk-estimator:hover {background-color: #d4ebff;}#sk-container-id-5 div.sk-parallel-item::after {content: \"\";width: 100%;border-bottom: 1px solid gray;flex-grow: 1;}#sk-container-id-5 div.sk-label:hover label.sk-toggleable__label {background-color: #d4ebff;}#sk-container-id-5 div.sk-serial::before {content: \"\";position: absolute;border-left: 1px solid gray;box-sizing: border-box;top: 0;bottom: 0;left: 50%;z-index: 0;}#sk-container-id-5 div.sk-serial {display: flex;flex-direction: column;align-items: center;background-color: white;padding-right: 0.2em;padding-left: 0.2em;position: relative;}#sk-container-id-5 div.sk-item {position: relative;z-index: 1;}#sk-container-id-5 div.sk-parallel {display: flex;align-items: stretch;justify-content: center;background-color: white;position: relative;}#sk-container-id-5 div.sk-item::before, #sk-container-id-5 div.sk-parallel-item::before {content: \"\";position: absolute;border-left: 1px solid gray;box-sizing: border-box;top: 0;bottom: 0;left: 50%;z-index: -1;}#sk-container-id-5 div.sk-parallel-item {display: flex;flex-direction: column;z-index: 1;position: relative;background-color: white;}#sk-container-id-5 div.sk-parallel-item:first-child::after {align-self: flex-end;width: 50%;}#sk-container-id-5 div.sk-parallel-item:last-child::after {align-self: flex-start;width: 50%;}#sk-container-id-5 div.sk-parallel-item:only-child::after {width: 0;}#sk-container-id-5 div.sk-dashed-wrapped {border: 1px dashed gray;margin: 0 0.4em 0.5em 0.4em;box-sizing: border-box;padding-bottom: 0.4em;background-color: white;}#sk-container-id-5 div.sk-label label {font-family: monospace;font-weight: bold;display: inline-block;line-height: 1.2em;}#sk-container-id-5 div.sk-label-container {text-align: center;}#sk-container-id-5 div.sk-container {/* jupyter's `normalize.less` sets `[hidden] { display: none; }` but bootstrap.min.css set `[hidden] { display: none !important; }` so we also need the `!important` here to be able to override the default hidden behavior on the sphinx rendered scikit-learn.org. See: https://github.com/scikit-learn/scikit-learn/issues/21755 */display: inline-block !important;position: relative;}#sk-container-id-5 div.sk-text-repr-fallback {display: none;}</style><div id=\"sk-container-id-5\" class=\"sk-top-container\"><div class=\"sk-text-repr-fallback\"><pre>KNeighborsClassifier()</pre><b>In a Jupyter environment, please rerun this cell to show the HTML representation or trust the notebook. <br />On GitHub, the HTML representation is unable to render, please try loading this page with nbviewer.org.</b></div><div class=\"sk-container\" hidden><div class=\"sk-item\"><div class=\"sk-estimator sk-toggleable\"><input class=\"sk-toggleable__control sk-hidden--visually\" id=\"sk-estimator-id-5\" type=\"checkbox\" checked><label for=\"sk-estimator-id-5\" class=\"sk-toggleable__label sk-toggleable__label-arrow\">KNeighborsClassifier</label><div class=\"sk-toggleable__content\"><pre>KNeighborsClassifier()</pre></div></div></div></div></div>"
            ]
          },
          "metadata": {},
          "execution_count": 57
        }
      ]
    },
    {
      "cell_type": "code",
      "source": [
        "ypred2 = neigh.predict(xtest)"
      ],
      "metadata": {
        "id": "xjec9osAxjIu"
      },
      "execution_count": null,
      "outputs": []
    },
    {
      "cell_type": "code",
      "source": [
        "#@title DNN\n",
        "# Input layer\n",
        "input_layer = layers.Input(shape=(64,))\n",
        "\n",
        "# Hidden layer\n",
        "hidden_layer1 = layers.Dense(units=256, activation='relu', kernel_regularizer=tf.keras.regularizers.l2(l=0.01))(input_layer)\n",
        "dropout_layer1 = layers.Dropout(0.5)(hidden_layer1)\n",
        "bnorm_layer1 = layers.BatchNormalization()(dropout_layer1)\n",
        "hidden_layer2 = layers.Dense(units=256, activation='relu', kernel_regularizer=tf.keras.regularizers.l2(l=0.01))(bnorm_layer1)\n",
        "dropout_layer2 = layers.Dropout(0.5)(hidden_layer2)\n",
        "bnorm_layer2 = layers.BatchNormalization()(dropout_layer2)\n",
        "hidden_layer3 = layers.Dense(units=64, activation='relu', kernel_regularizer=tf.keras.regularizers.l2(l=0.01))(bnorm_layer2)\n",
        "dropout_layer3 = layers.Dropout(0.5)(hidden_layer3)\n",
        "bnorm_layer3 = layers.BatchNormalization()(dropout_layer3)\n",
        "hidden_layer4 = layers.Dense(units=16, activation='relu', kernel_regularizer=tf.keras.regularizers.l2(l=0.01))(bnorm_layer3)\n",
        "\n",
        "# Output layer\n",
        "output_layer = layers.Dense(units=4, activation='softmax')(hidden_layer3)\n",
        "\n",
        "# Create the model\n",
        "Model = tf.keras.Model(inputs=input_layer, outputs=output_layer, name=\"EMG\")"
      ],
      "metadata": {
        "id": "FGycfqTu0En3"
      },
      "execution_count": 139,
      "outputs": []
    },
    {
      "cell_type": "code",
      "source": [
        "class CallBack(tf.keras.callbacks.Callback):\n",
        "  def on_epoch_end(self, epoch, logs={}):\n",
        "    if (logs.get(\"accuracy\") is not None):\n",
        "      if (logs.get(\"accuracy\") == 0.90):\n",
        "        print(\"Model stop training\")\n",
        "        self.model.stop_training = True"
      ],
      "metadata": {
        "id": "fNDirEAK066M"
      },
      "execution_count": 140,
      "outputs": []
    },
    {
      "cell_type": "code",
      "source": [
        "Model.compile(optimizer='adam', loss=keras.losses.sparse_categorical_crossentropy, metrics=['accuracy'])"
      ],
      "metadata": {
        "id": "FG_2ZIAf0qd0"
      },
      "execution_count": 141,
      "outputs": []
    },
    {
      "cell_type": "code",
      "source": [
        "Model.summary()"
      ],
      "metadata": {
        "colab": {
          "base_uri": "https://localhost:8080/"
        },
        "id": "xoUTZTbF0toI",
        "outputId": "2b598cfb-8166-47d4-80dc-29798b054274"
      },
      "execution_count": 142,
      "outputs": [
        {
          "output_type": "stream",
          "name": "stdout",
          "text": [
            "Model: \"EMG\"\n",
            "_________________________________________________________________\n",
            " Layer (type)                Output Shape              Param #   \n",
            "=================================================================\n",
            " input_1 (InputLayer)        [(None, 64)]              0         \n",
            "                                                                 \n",
            " dense (Dense)               (None, 256)               16640     \n",
            "                                                                 \n",
            " dropout (Dropout)           (None, 256)               0         \n",
            "                                                                 \n",
            " batch_normalization (BatchN  (None, 256)              1024      \n",
            " ormalization)                                                   \n",
            "                                                                 \n",
            " dense_1 (Dense)             (None, 256)               65792     \n",
            "                                                                 \n",
            " dropout_1 (Dropout)         (None, 256)               0         \n",
            "                                                                 \n",
            " batch_normalization_1 (Batc  (None, 256)              1024      \n",
            " hNormalization)                                                 \n",
            "                                                                 \n",
            " dense_2 (Dense)             (None, 64)                16448     \n",
            "                                                                 \n",
            " dense_4 (Dense)             (None, 4)                 260       \n",
            "                                                                 \n",
            "=================================================================\n",
            "Total params: 101,188\n",
            "Trainable params: 100,164\n",
            "Non-trainable params: 1,024\n",
            "_________________________________________________________________\n"
          ]
        }
      ]
    },
    {
      "cell_type": "code",
      "source": [
        "history = Model.fit(xtrain, ytrain, epochs=30, verbose=1, callbacks=[CallBack()])"
      ],
      "metadata": {
        "id": "R1140P_60xBS",
        "colab": {
          "base_uri": "https://localhost:8080/"
        },
        "outputId": "658ed82c-8364-49db-abbe-4b88e29e7fe4"
      },
      "execution_count": 143,
      "outputs": [
        {
          "output_type": "stream",
          "name": "stdout",
          "text": [
            "Epoch 1/30\n",
            "292/292 [==============================] - 9s 13ms/step - loss: 4.3726 - accuracy: 0.4203\n",
            "Epoch 2/30\n",
            "292/292 [==============================] - 3s 11ms/step - loss: 2.3174 - accuracy: 0.5773\n",
            "Epoch 3/30\n",
            "292/292 [==============================] - 3s 12ms/step - loss: 1.5310 - accuracy: 0.6737\n",
            "Epoch 4/30\n",
            "292/292 [==============================] - 6s 19ms/step - loss: 1.2451 - accuracy: 0.7296\n",
            "Epoch 5/30\n",
            "292/292 [==============================] - 3s 11ms/step - loss: 1.1508 - accuracy: 0.7399\n",
            "Epoch 6/30\n",
            "292/292 [==============================] - 2s 6ms/step - loss: 1.0969 - accuracy: 0.7572\n",
            "Epoch 7/30\n",
            "292/292 [==============================] - 2s 6ms/step - loss: 1.0487 - accuracy: 0.7725\n",
            "Epoch 8/30\n",
            "292/292 [==============================] - 2s 6ms/step - loss: 1.0427 - accuracy: 0.7734\n",
            "Epoch 9/30\n",
            "292/292 [==============================] - 3s 9ms/step - loss: 1.0279 - accuracy: 0.7825\n",
            "Epoch 10/30\n",
            "292/292 [==============================] - 2s 7ms/step - loss: 0.9995 - accuracy: 0.7899\n",
            "Epoch 11/30\n",
            "292/292 [==============================] - 2s 6ms/step - loss: 1.0007 - accuracy: 0.7921\n",
            "Epoch 12/30\n",
            "292/292 [==============================] - 2s 6ms/step - loss: 0.9837 - accuracy: 0.7930\n",
            "Epoch 13/30\n",
            "292/292 [==============================] - 2s 6ms/step - loss: 0.9672 - accuracy: 0.8010\n",
            "Epoch 14/30\n",
            "292/292 [==============================] - 2s 6ms/step - loss: 0.9719 - accuracy: 0.7994\n",
            "Epoch 15/30\n",
            "292/292 [==============================] - 2s 7ms/step - loss: 0.9826 - accuracy: 0.7959\n",
            "Epoch 16/30\n",
            "292/292 [==============================] - 3s 9ms/step - loss: 0.9636 - accuracy: 0.8016\n",
            "Epoch 17/30\n",
            "292/292 [==============================] - 2s 6ms/step - loss: 0.9585 - accuracy: 0.8035\n",
            "Epoch 18/30\n",
            "292/292 [==============================] - 2s 6ms/step - loss: 0.9581 - accuracy: 0.8043\n",
            "Epoch 19/30\n",
            "292/292 [==============================] - 2s 6ms/step - loss: 0.9364 - accuracy: 0.8139\n",
            "Epoch 20/30\n",
            "292/292 [==============================] - 2s 6ms/step - loss: 0.9239 - accuracy: 0.8182\n",
            "Epoch 21/30\n",
            "292/292 [==============================] - 2s 6ms/step - loss: 0.9392 - accuracy: 0.8112\n",
            "Epoch 22/30\n",
            "292/292 [==============================] - 2s 8ms/step - loss: 0.9421 - accuracy: 0.8089\n",
            "Epoch 23/30\n",
            "292/292 [==============================] - 2s 8ms/step - loss: 0.9323 - accuracy: 0.8192\n",
            "Epoch 24/30\n",
            "292/292 [==============================] - 2s 6ms/step - loss: 0.9218 - accuracy: 0.8164\n",
            "Epoch 25/30\n",
            "292/292 [==============================] - 2s 6ms/step - loss: 0.9169 - accuracy: 0.8178\n",
            "Epoch 26/30\n",
            "292/292 [==============================] - 2s 6ms/step - loss: 0.9231 - accuracy: 0.8165\n",
            "Epoch 27/30\n",
            "292/292 [==============================] - 2s 6ms/step - loss: 0.9204 - accuracy: 0.8174\n",
            "Epoch 28/30\n",
            "292/292 [==============================] - 2s 6ms/step - loss: 0.9454 - accuracy: 0.8087\n",
            "Epoch 29/30\n",
            "292/292 [==============================] - 3s 9ms/step - loss: 0.9418 - accuracy: 0.8085\n",
            "Epoch 30/30\n",
            "292/292 [==============================] - 2s 7ms/step - loss: 0.9380 - accuracy: 0.8107\n"
          ]
        }
      ]
    },
    {
      "cell_type": "code",
      "source": [
        "prediction = Model.predict(xtest)"
      ],
      "metadata": {
        "colab": {
          "base_uri": "https://localhost:8080/"
        },
        "id": "U0UGQw5h2UKq",
        "outputId": "3a219974-276d-4082-dd76-7842036e8257"
      },
      "execution_count": null,
      "outputs": [
        {
          "output_type": "stream",
          "name": "stdout",
          "text": [
            "73/73 [==============================] - 0s 3ms/step\n"
          ]
        }
      ]
    },
    {
      "cell_type": "code",
      "source": [
        "prediction = np.argmax(prediction, axis=1)"
      ],
      "metadata": {
        "id": "iNKpFNUt39XM"
      },
      "execution_count": null,
      "outputs": []
    },
    {
      "cell_type": "code",
      "source": [
        "print(prediction)"
      ],
      "metadata": {
        "colab": {
          "base_uri": "https://localhost:8080/"
        },
        "id": "J6pMInjV3496",
        "outputId": "951d9372-7837-40e2-c246-4c671cf78174"
      },
      "execution_count": null,
      "outputs": [
        {
          "output_type": "stream",
          "name": "stdout",
          "text": [
            "[2 1 3 ... 3 1 2]\n"
          ]
        }
      ]
    },
    {
      "cell_type": "code",
      "source": [
        "Model = None"
      ],
      "metadata": {
        "id": "QdSxcS2D1Tud"
      },
      "execution_count": null,
      "outputs": []
    },
    {
      "cell_type": "markdown",
      "source": [
        "# Eval"
      ],
      "metadata": {
        "id": "PmBYcKAktNZP"
      }
    },
    {
      "cell_type": "code",
      "source": [
        "#@title Functions\n",
        "def plot_cm(ytest, pred):\n",
        "  cm = confusion_matrix(ytest, pred)\n",
        "  disp = ConfusionMatrixDisplay(cm)\n",
        "  disp.plot()\n",
        "  plt.grid(False)\n",
        "  plt.show()\n",
        "\n",
        "def class_report(ytest, pred, name):\n",
        "  print(f'{name} accuracy score: {accuracy_score(ytest, ypred)}')\n",
        "  print(classification_report(ytest, ypred, target_names=target_names))"
      ],
      "metadata": {
        "cellView": "form",
        "id": "bJ5LxURi9VPJ"
      },
      "execution_count": null,
      "outputs": []
    },
    {
      "cell_type": "code",
      "source": [
        "#@title LGBM\n",
        "target_names = ['Pos0', 'Pos1', 'Pos2', 'Pos3']\n",
        "print('LightGBM Model accuracy score: {0:0.4f}'.format(accuracy_score(ytest, ypred)))\n",
        "print(classification_report(ytest, ypred, target_names=target_names))"
      ],
      "metadata": {
        "colab": {
          "base_uri": "https://localhost:8080/"
        },
        "id": "tB5YIMPvtQkz",
        "outputId": "9c59054e-373a-4ea9-a02c-f3735c1df103"
      },
      "execution_count": null,
      "outputs": [
        {
          "output_type": "stream",
          "name": "stdout",
          "text": [
            "LightGBM Model accuracy score: 0.9533\n",
            "              precision    recall  f1-score   support\n",
            "\n",
            "        Pos0       0.98      0.99      0.98       589\n",
            "        Pos1       0.96      0.95      0.95       563\n",
            "        Pos2       0.93      0.95      0.94       554\n",
            "        Pos3       0.95      0.93      0.94       630\n",
            "\n",
            "    accuracy                           0.95      2336\n",
            "   macro avg       0.95      0.95      0.95      2336\n",
            "weighted avg       0.95      0.95      0.95      2336\n",
            "\n"
          ]
        }
      ]
    },
    {
      "cell_type": "code",
      "source": [
        "cm = confusion_matrix(ytest, ypred)\n",
        "disp = ConfusionMatrixDisplay(confusion_matrix=cm)\n",
        "\n",
        "disp.plot()\n",
        "plt.grid(False)\n",
        "plt.show()"
      ],
      "metadata": {
        "colab": {
          "base_uri": "https://localhost:8080/",
          "height": 279
        },
        "id": "8CQLZQDPtu2X",
        "outputId": "c376ab7e-5528-4920-902b-9ce808e809f6"
      },
      "execution_count": null,
      "outputs": [
        {
          "output_type": "display_data",
          "data": {
            "text/plain": [
              "<Figure size 432x288 with 2 Axes>"
            ],
            "image/png": "[encoded data removed]"
          },
          "metadata": {
            "needs_background": "light"
          }
        }
      ]
    },
    {
      "cell_type": "code",
      "source": [
        "#@title K-Near\n",
        "print('K-Nearest Model accuracy score: {0:0.4f}'.format(accuracy_score(dummy2, ypred2)))\n",
        "print(classification_report(dummy2, ypred2, target_names=target_names))"
      ],
      "metadata": {
        "colab": {
          "base_uri": "https://localhost:8080/"
        },
        "id": "WiqTNnqnvTsf",
        "outputId": "a040a199-06ce-45b3-ed1a-b46134d8c8ce"
      },
      "execution_count": null,
      "outputs": [
        {
          "output_type": "stream",
          "name": "stdout",
          "text": [
            "K-Nearest Model accuracy score: 0.6396\n",
            "              precision    recall  f1-score   support\n",
            "\n",
            "        Pos0       0.99      0.74      0.84       589\n",
            "        Pos1       0.59      0.92      0.72       563\n",
            "        Pos2       0.83      0.13      0.23       554\n",
            "        Pos3       0.66      0.74      0.70       630\n",
            "\n",
            "   micro avg       0.71      0.64      0.67      2336\n",
            "   macro avg       0.77      0.63      0.62      2336\n",
            "weighted avg       0.77      0.64      0.63      2336\n",
            " samples avg       0.64      0.64      0.64      2336\n",
            "\n"
          ]
        }
      ]
    },
    {
      "cell_type": "code",
      "source": [
        "ypred2 = np.argmax(ypred2, axis=1)"
      ],
      "metadata": {
        "id": "b89J2pcDzSFj"
      },
      "execution_count": null,
      "outputs": []
    },
    {
      "cell_type": "code",
      "source": [
        "cm = confusion_matrix(ytest, ypred2)\n",
        "disp = ConfusionMatrixDisplay(confusion_matrix=cm)\n",
        "\n",
        "disp.plot()\n",
        "plt.grid(False)\n",
        "plt.show()"
      ],
      "metadata": {
        "colab": {
          "base_uri": "https://localhost:8080/",
          "height": 279
        },
        "id": "xbeLjz6BycB4",
        "outputId": "660ad5d4-dd39-4d00-fa81-46488fa18f76"
      },
      "execution_count": null,
      "outputs": [
        {
          "output_type": "display_data",
          "data": {
            "text/plain": [
              "<Figure size 432x288 with 2 Axes>"
            ],
            "image/png": "[encoded data removed]"
          },
          "metadata": {
            "needs_background": "light"
          }
        }
      ]
    },
    {
      "cell_type": "code",
      "source": [
        "#@title DNN\n",
        "print('Deep Neural Net accuracy score: {0:0.4f}'.format(accuracy_score(ytest, prediction)))\n",
        "print(classification_report(ytest, prediction, target_names=target_names))"
      ],
      "metadata": {
        "id": "fqWoP6otzFVB",
        "colab": {
          "base_uri": "https://localhost:8080/"
        },
        "outputId": "c36afb5d-308b-429f-c41c-b2266915d0b2"
      },
      "execution_count": null,
      "outputs": [
        {
          "output_type": "stream",
          "name": "stdout",
          "text": [
            "Deep Neural Net accuracy score: 0.9277\n",
            "              precision    recall  f1-score   support\n",
            "\n",
            "        Pos0       0.99      0.94      0.96       594\n",
            "        Pos1       0.92      0.96      0.94       565\n",
            "        Pos2       0.91      0.90      0.91       600\n",
            "        Pos3       0.90      0.91      0.90       577\n",
            "\n",
            "    accuracy                           0.93      2336\n",
            "   macro avg       0.93      0.93      0.93      2336\n",
            "weighted avg       0.93      0.93      0.93      2336\n",
            "\n"
          ]
        }
      ]
    },
    {
      "cell_type": "code",
      "source": [
        "cm = confusion_matrix(ytest, prediction)\n",
        "disp = ConfusionMatrixDisplay(confusion_matrix=cm)\n",
        "\n",
        "disp.plot()\n",
        "plt.grid(False)\n",
        "plt.show()"
      ],
      "metadata": {
        "colab": {
          "base_uri": "https://localhost:8080/",
          "height": 279
        },
        "id": "X2-TK-Ky8ZxX",
        "outputId": "90e7d6a6-3e74-4015-e76b-08b5a00b490c"
      },
      "execution_count": null,
      "outputs": [
        {
          "output_type": "display_data",
          "data": {
            "text/plain": [
              "<Figure size 432x288 with 2 Axes>"
            ],
            "image/png": "[encoded data removed]"
          },
          "metadata": {
            "needs_background": "light"
          }
        }
      ]
    },
    {
      "cell_type": "markdown",
      "source": [
        "# Conclusion\n",
        "<sup><sub>K-near is shit, LGBM is god<br>\n",
        "DNN is even more shit<br>\n",
        "Actually I am shit, I forget to preprocess it :))))))) DNN is decent</sub></sup>\n",
        "\n",
        "### Ranking:\n",
        "1. LGBM\n",
        "2. DNN\n",
        "3. KNN"
      ],
      "metadata": {
        "id": "0thw_k5qz6wn"
      }
    },
    {
      "cell_type": "code",
      "source": [
        "# save lgbm\n",
        "clf.booster_.save_model('lgbm.txt')\n",
        "model = lgb.Booster(model_file='lgbm.txt')"
      ],
      "metadata": {
        "id": "5_fH0GQA-aSa"
      },
      "execution_count": 147,
      "outputs": []
    },
    {
      "cell_type": "code",
      "source": [
        "# save DNN\n",
        "Model.save(\"emg.h5\")\n",
        "new_model = tf.keras.models.load_model('/content/emg.h5')"
      ],
      "metadata": {
        "id": "Htm1UBb4--DG"
      },
      "execution_count": 150,
      "outputs": []
    },
    {
      "cell_type": "markdown",
      "source": [
        "# Transfer Learning with DNN"
      ],
      "metadata": {
        "id": "hDVCwmZJdZZJ"
      }
    },
    {
      "cell_type": "code",
      "source": [
        "emg = shuffle(emg)\n",
        "Y = emg.iloc[:, 1]\n",
        "X = emg.iloc[:, 0]"
      ],
      "metadata": {
        "id": "WsM1QQWYgSOl"
      },
      "execution_count": 151,
      "outputs": []
    },
    {
      "cell_type": "code",
      "source": [
        "xtrain, xtest, ytrain, ytest = train_test_split(X, Y, test_size=0.1, random_state=42)"
      ],
      "metadata": {
        "id": "5zSN8A5Ogjdi"
      },
      "execution_count": 212,
      "outputs": []
    },
    {
      "cell_type": "code",
      "source": [
        "base_model = tf.keras.models.load_model('emg.h5')"
      ],
      "metadata": {
        "id": "a6ANJTpjdbaE"
      },
      "execution_count": 173,
      "outputs": []
    },
    {
      "cell_type": "code",
      "source": [
        "base_model = tf.keras.models.Sequential(base_model.layers[1:-1])  # remove Input and Output Layer"
      ],
      "metadata": {
        "id": "wTFrKlKSkhvj"
      },
      "execution_count": 174,
      "outputs": []
    },
    {
      "cell_type": "code",
      "source": [
        "base_model.compile(optimizer='adam', loss=keras.losses.binary_crossentropy, metrics=['accuracy'])"
      ],
      "metadata": {
        "id": "mPrFjkYYlETd"
      },
      "execution_count": 178,
      "outputs": []
    },
    {
      "cell_type": "code",
      "source": [
        "base_model.summary()"
      ],
      "metadata": {
        "colab": {
          "base_uri": "https://localhost:8080/"
        },
        "id": "FZzcd55plJEW",
        "outputId": "3c32ee45-cd98-4c4a-bc7e-51e1107c778f"
      },
      "execution_count": 179,
      "outputs": [
        {
          "output_type": "stream",
          "name": "stdout",
          "text": [
            "Model: \"sequential\"\n",
            "_________________________________________________________________\n",
            " Layer (type)                Output Shape              Param #   \n",
            "=================================================================\n",
            " dense (Dense)               (None, 256)               16640     \n",
            "                                                                 \n",
            " dropout (Dropout)           (None, 256)               0         \n",
            "                                                                 \n",
            " batch_normalization (BatchN  (None, 256)              1024      \n",
            " ormalization)                                                   \n",
            "                                                                 \n",
            " dense_1 (Dense)             (None, 256)               65792     \n",
            "                                                                 \n",
            " dropout_1 (Dropout)         (None, 256)               0         \n",
            "                                                                 \n",
            " batch_normalization_1 (Batc  (None, 256)              1024      \n",
            " hNormalization)                                                 \n",
            "                                                                 \n",
            " dense_2 (Dense)             (None, 64)                16448     \n",
            "                                                                 \n",
            "=================================================================\n",
            "Total params: 100,928\n",
            "Trainable params: 0\n",
            "Non-trainable params: 100,928\n",
            "_________________________________________________________________\n"
          ]
        }
      ]
    },
    {
      "cell_type": "code",
      "source": [
        "for layer in base_model.layers:\n",
        "  layer.trainable = False"
      ],
      "metadata": {
        "id": "FCVUdJzmeV5B"
      },
      "execution_count": 175,
      "outputs": []
    },
    {
      "cell_type": "code",
      "source": [
        "global_avg = tf.keras.layers.Dense(16, activation='relu', kernel_regularizer=tf.keras.regularizers.l2(l=0.01))\n",
        "prediction_layer = tf.keras.layers.Dense(1, activation='sigmoid')"
      ],
      "metadata": {
        "id": "le1-rb7GfCAt"
      },
      "execution_count": 155,
      "outputs": []
    },
    {
      "cell_type": "code",
      "source": [
        "input = tf.keras.Input(shape=(1,))\n",
        "x = keras.layers.Dense(64, activation=\"relu\", kernel_regularizer=tf.keras.regularizers.l2(l=0.01))(input)\n",
        "x = base_model(x)\n",
        "x = global_avg(x)\n",
        "output = prediction_layer(x)\n",
        "\n",
        "tmodel = tf.keras.Model(input, output, name=\"EMG\")"
      ],
      "metadata": {
        "id": "_InyfwlieftO"
      },
      "execution_count": 190,
      "outputs": []
    },
    {
      "cell_type": "code",
      "source": [
        "tmodel.summary()"
      ],
      "metadata": {
        "colab": {
          "base_uri": "https://localhost:8080/"
        },
        "id": "DpfgckgVgDs1",
        "outputId": "87d78ad1-9103-4fcc-f77d-4ee92fc8bd05"
      },
      "execution_count": 191,
      "outputs": [
        {
          "output_type": "stream",
          "name": "stdout",
          "text": [
            "Model: \"EMG\"\n",
            "_________________________________________________________________\n",
            " Layer (type)                Output Shape              Param #   \n",
            "=================================================================\n",
            " input_11 (InputLayer)       [(None, 1)]               0         \n",
            "                                                                 \n",
            " dense_11 (Dense)            (None, 64)                128       \n",
            "                                                                 \n",
            " sequential (Sequential)     multiple                  100928    \n",
            "                                                                 \n",
            " dense_5 (Dense)             (None, 16)                1040      \n",
            "                                                                 \n",
            " dense_6 (Dense)             (None, 1)                 17        \n",
            "                                                                 \n",
            "=================================================================\n",
            "Total params: 102,113\n",
            "Trainable params: 1,185\n",
            "Non-trainable params: 100,928\n",
            "_________________________________________________________________\n"
          ]
        }
      ]
    },
    {
      "cell_type": "code",
      "source": [
        "tmodel.compile(optimizer='adam', loss=keras.losses.MAE, metrics=['accuracy'])"
      ],
      "metadata": {
        "id": "tAqdTVgAgFQW"
      },
      "execution_count": 192,
      "outputs": []
    },
    {
      "cell_type": "code",
      "source": [
        "tmodel.fit(xtrain, ytrain, epochs=20, verbose=1, callbacks=[CallBack()])"
      ],
      "metadata": {
        "colab": {
          "base_uri": "https://localhost:8080/"
        },
        "id": "uoHNK0M6gOt1",
        "outputId": "bdbc9dbb-2467-42f1-fc44-54a568b65a5d"
      },
      "execution_count": 193,
      "outputs": [
        {
          "output_type": "stream",
          "name": "stdout",
          "text": [
            "Epoch 1/20\n",
            "354/354 [==============================] - 3s 5ms/step - loss: 1.0031 - accuracy: 0.7331\n",
            "Epoch 2/20\n",
            "354/354 [==============================] - 2s 5ms/step - loss: 0.8035 - accuracy: 0.8616\n",
            "Epoch 3/20\n",
            "354/354 [==============================] - 2s 5ms/step - loss: 0.7339 - accuracy: 0.9138\n",
            "Epoch 4/20\n",
            "354/354 [==============================] - 3s 7ms/step - loss: 0.7013 - accuracy: 0.9304\n",
            "Epoch 5/20\n",
            "354/354 [==============================] - 2s 5ms/step - loss: 0.6855 - accuracy: 0.9351\n",
            "Epoch 6/20\n",
            "354/354 [==============================] - 2s 5ms/step - loss: 0.6771 - accuracy: 0.9365\n",
            "Epoch 7/20\n",
            "354/354 [==============================] - 2s 5ms/step - loss: 0.6680 - accuracy: 0.9364\n",
            "Epoch 8/20\n",
            "354/354 [==============================] - 2s 5ms/step - loss: 0.6600 - accuracy: 0.9412\n",
            "Epoch 9/20\n",
            "354/354 [==============================] - 2s 5ms/step - loss: 0.6622 - accuracy: 0.9383\n",
            "Epoch 10/20\n",
            "354/354 [==============================] - 2s 5ms/step - loss: 0.6566 - accuracy: 0.9376\n",
            "Epoch 11/20\n",
            "354/354 [==============================] - 3s 7ms/step - loss: 0.6559 - accuracy: 0.9383\n",
            "Epoch 12/20\n",
            "354/354 [==============================] - 3s 8ms/step - loss: 0.6558 - accuracy: 0.9381\n",
            "Epoch 13/20\n",
            "354/354 [==============================] - 2s 5ms/step - loss: 0.6503 - accuracy: 0.9403\n",
            "Epoch 14/20\n",
            "354/354 [==============================] - 2s 5ms/step - loss: 0.6473 - accuracy: 0.9404\n",
            "Epoch 15/20\n",
            "354/354 [==============================] - 2s 5ms/step - loss: 0.6488 - accuracy: 0.9397\n",
            "Epoch 16/20\n",
            "354/354 [==============================] - 2s 6ms/step - loss: 0.6473 - accuracy: 0.9425\n",
            "Epoch 17/20\n",
            "354/354 [==============================] - 4s 11ms/step - loss: 0.6506 - accuracy: 0.9381\n",
            "Epoch 18/20\n",
            "354/354 [==============================] - 2s 6ms/step - loss: 0.6443 - accuracy: 0.9416\n",
            "Epoch 19/20\n",
            "354/354 [==============================] - 2s 5ms/step - loss: 0.6434 - accuracy: 0.9394\n",
            "Epoch 20/20\n",
            "354/354 [==============================] - 2s 5ms/step - loss: 0.6457 - accuracy: 0.9379\n"
          ]
        },
        {
          "output_type": "execute_result",
          "data": {
            "text/plain": [
              "<keras.callbacks.History at 0x7fe568159700>"
            ]
          },
          "metadata": {},
          "execution_count": 193
        }
      ]
    },
    {
      "cell_type": "code",
      "source": [
        "tmodel.evaluate(xtest, ytest)"
      ],
      "metadata": {
        "colab": {
          "base_uri": "https://localhost:8080/"
        },
        "id": "-vI_Q5OpnWHE",
        "outputId": "ba1396b2-b0e1-47f4-fc43-03b1956f1e7b"
      },
      "execution_count": 195,
      "outputs": [
        {
          "output_type": "stream",
          "name": "stdout",
          "text": [
            "40/40 [==============================] - 1s 6ms/step - loss: 0.5907 - accuracy: 0.9531\n"
          ]
        },
        {
          "output_type": "execute_result",
          "data": {
            "text/plain": [
              "[0.5907437801361084, 0.9531001448631287]"
            ]
          },
          "metadata": {},
          "execution_count": 195
        }
      ]
    },
    {
      "cell_type": "code",
      "source": [
        "prediction = tmodel.predict(xtest)"
      ],
      "metadata": {
        "colab": {
          "base_uri": "https://localhost:8080/"
        },
        "id": "AjPOyiZjm9Bw",
        "outputId": "9e8923cd-a8b8-49be-a03e-1d9b898c14ac"
      },
      "execution_count": 194,
      "outputs": [
        {
          "output_type": "stream",
          "name": "stdout",
          "text": [
            "40/40 [==============================] - 0s 4ms/step\n"
          ]
        }
      ]
    },
    {
      "cell_type": "code",
      "source": [
        "prediction = pd.DataFrame(prediction)\n",
        "prediction[0] = prediction[0].apply(lambda x: 1 if x >= 0.5 else 0)"
      ],
      "metadata": {
        "id": "uShzNy6mnpQX"
      },
      "execution_count": 199,
      "outputs": []
    },
    {
      "cell_type": "code",
      "source": [
        "cm = confusion_matrix(ytest, prediction)\n",
        "disp = ConfusionMatrixDisplay(confusion_matrix=cm)\n",
        "\n",
        "disp.plot()\n",
        "plt.grid(False)\n",
        "plt.show()"
      ],
      "metadata": {
        "colab": {
          "base_uri": "https://localhost:8080/",
          "height": 279
        },
        "id": "03q7GsgtnU4I",
        "outputId": "89d790a8-2b63-4d0b-8c44-11b3dccf4917"
      },
      "execution_count": 200,
      "outputs": [
        {
          "output_type": "display_data",
          "data": {
            "text/plain": [
              "<Figure size 432x288 with 2 Axes>"
            ],
            "image/png": "[encoded data removed]"
          },
          "metadata": {
            "needs_background": "light"
          }
        }
      ]
    },
    {
      "cell_type": "markdown",
      "source": [
        "# LGBM on Our own Data"
      ],
      "metadata": {
        "id": "EneKFleQoSha"
      }
    },
    {
      "cell_type": "code",
      "source": [
        "model = lgb.LGBMClassifier()\n",
        "xtrain = pd.DataFrame(np.array(xtrain).reshape(-1, 1))\n",
        "model.fit(xtrain, ytrain)"
      ],
      "metadata": {
        "colab": {
          "base_uri": "https://localhost:8080/",
          "height": 75
        },
        "id": "BcCxdNfTnmaf",
        "outputId": "ec18dc12-0547-4452-c4f5-635b7aabcd12"
      },
      "execution_count": 214,
      "outputs": [
        {
          "output_type": "execute_result",
          "data": {
            "text/plain": [
              "LGBMClassifier()"
            ],
            "text/html": [
              "<style>#sk-container-id-2 {color: black;background-color: white;}#sk-container-id-2 pre{padding: 0;}#sk-container-id-2 div.sk-toggleable {background-color: white;}#sk-container-id-2 label.sk-toggleable__label {cursor: pointer;display: block;width: 100%;margin-bottom: 0;padding: 0.3em;box-sizing: border-box;text-align: center;}#sk-container-id-2 label.sk-toggleable__label-arrow:before {content: \"▸\";float: left;margin-right: 0.25em;color: #696969;}#sk-container-id-2 label.sk-toggleable__label-arrow:hover:before {color: black;}#sk-container-id-2 div.sk-estimator:hover label.sk-toggleable__label-arrow:before {color: black;}#sk-container-id-2 div.sk-toggleable__content {max-height: 0;max-width: 0;overflow: hidden;text-align: left;background-color: #f0f8ff;}#sk-container-id-2 div.sk-toggleable__content pre {margin: 0.2em;color: black;border-radius: 0.25em;background-color: #f0f8ff;}#sk-container-id-2 input.sk-toggleable__control:checked~div.sk-toggleable__content {max-height: 200px;max-width: 100%;overflow: auto;}#sk-container-id-2 input.sk-toggleable__control:checked~label.sk-toggleable__label-arrow:before {content: \"▾\";}#sk-container-id-2 div.sk-estimator input.sk-toggleable__control:checked~label.sk-toggleable__label {background-color: #d4ebff;}#sk-container-id-2 div.sk-label input.sk-toggleable__control:checked~label.sk-toggleable__label {background-color: #d4ebff;}#sk-container-id-2 input.sk-hidden--visually {border: 0;clip: rect(1px 1px 1px 1px);clip: rect(1px, 1px, 1px, 1px);height: 1px;margin: -1px;overflow: hidden;padding: 0;position: absolute;width: 1px;}#sk-container-id-2 div.sk-estimator {font-family: monospace;background-color: #f0f8ff;border: 1px dotted black;border-radius: 0.25em;box-sizing: border-box;margin-bottom: 0.5em;}#sk-container-id-2 div.sk-estimator:hover {background-color: #d4ebff;}#sk-container-id-2 div.sk-parallel-item::after {content: \"\";width: 100%;border-bottom: 1px solid gray;flex-grow: 1;}#sk-container-id-2 div.sk-label:hover label.sk-toggleable__label {background-color: #d4ebff;}#sk-container-id-2 div.sk-serial::before {content: \"\";position: absolute;border-left: 1px solid gray;box-sizing: border-box;top: 0;bottom: 0;left: 50%;z-index: 0;}#sk-container-id-2 div.sk-serial {display: flex;flex-direction: column;align-items: center;background-color: white;padding-right: 0.2em;padding-left: 0.2em;position: relative;}#sk-container-id-2 div.sk-item {position: relative;z-index: 1;}#sk-container-id-2 div.sk-parallel {display: flex;align-items: stretch;justify-content: center;background-color: white;position: relative;}#sk-container-id-2 div.sk-item::before, #sk-container-id-2 div.sk-parallel-item::before {content: \"\";position: absolute;border-left: 1px solid gray;box-sizing: border-box;top: 0;bottom: 0;left: 50%;z-index: -1;}#sk-container-id-2 div.sk-parallel-item {display: flex;flex-direction: column;z-index: 1;position: relative;background-color: white;}#sk-container-id-2 div.sk-parallel-item:first-child::after {align-self: flex-end;width: 50%;}#sk-container-id-2 div.sk-parallel-item:last-child::after {align-self: flex-start;width: 50%;}#sk-container-id-2 div.sk-parallel-item:only-child::after {width: 0;}#sk-container-id-2 div.sk-dashed-wrapped {border: 1px dashed gray;margin: 0 0.4em 0.5em 0.4em;box-sizing: border-box;padding-bottom: 0.4em;background-color: white;}#sk-container-id-2 div.sk-label label {font-family: monospace;font-weight: bold;display: inline-block;line-height: 1.2em;}#sk-container-id-2 div.sk-label-container {text-align: center;}#sk-container-id-2 div.sk-container {/* jupyter's `normalize.less` sets `[hidden] { display: none; }` but bootstrap.min.css set `[hidden] { display: none !important; }` so we also need the `!important` here to be able to override the default hidden behavior on the sphinx rendered scikit-learn.org. See: https://github.com/scikit-learn/scikit-learn/issues/21755 */display: inline-block !important;position: relative;}#sk-container-id-2 div.sk-text-repr-fallback {display: none;}</style><div id=\"sk-container-id-2\" class=\"sk-top-container\"><div class=\"sk-text-repr-fallback\"><pre>LGBMClassifier()</pre><b>In a Jupyter environment, please rerun this cell to show the HTML representation or trust the notebook. <br />On GitHub, the HTML representation is unable to render, please try loading this page with nbviewer.org.</b></div><div class=\"sk-container\" hidden><div class=\"sk-item\"><div class=\"sk-estimator sk-toggleable\"><input class=\"sk-toggleable__control sk-hidden--visually\" id=\"sk-estimator-id-2\" type=\"checkbox\" checked><label for=\"sk-estimator-id-2\" class=\"sk-toggleable__label sk-toggleable__label-arrow\">LGBMClassifier</label><div class=\"sk-toggleable__content\"><pre>LGBMClassifier()</pre></div></div></div></div></div>"
            ]
          },
          "metadata": {},
          "execution_count": 214
        }
      ]
    },
    {
      "cell_type": "code",
      "source": [
        "xtest = pd.DataFrame(np.array(xtest).reshape(-1, 1))\n",
        "ypred = model.predict(xtest)"
      ],
      "metadata": {
        "id": "Jy5jq4oqrnzD"
      },
      "execution_count": 216,
      "outputs": []
    },
    {
      "cell_type": "code",
      "source": [
        "target_names = ['0', '1']\n",
        "print('LightGBM Model accuracy score: {0:0.4f}'.format(accuracy_score(ytest, ypred)))\n",
        "print(classification_report(ytest, ypred, target_names=target_names))"
      ],
      "metadata": {
        "colab": {
          "base_uri": "https://localhost:8080/"
        },
        "id": "TS4dmoy7sJCz",
        "outputId": "8579af85-77f1-44ca-de91-c52c120e9a41"
      },
      "execution_count": 217,
      "outputs": [
        {
          "output_type": "stream",
          "name": "stdout",
          "text": [
            "LightGBM Model accuracy score: 0.9992\n",
            "              precision    recall  f1-score   support\n",
            "\n",
            "           0       1.00      1.00      1.00       414\n",
            "           1       1.00      1.00      1.00       844\n",
            "\n",
            "    accuracy                           1.00      1258\n",
            "   macro avg       1.00      1.00      1.00      1258\n",
            "weighted avg       1.00      1.00      1.00      1258\n",
            "\n"
          ]
        }
      ]
    },
    {
      "cell_type": "code",
      "source": [
        "cm = confusion_matrix(ytest, ypred)\n",
        "disp = ConfusionMatrixDisplay(confusion_matrix=cm)\n",
        "\n",
        "disp.plot()\n",
        "plt.grid(False)\n",
        "plt.show()"
      ],
      "metadata": {
        "colab": {
          "base_uri": "https://localhost:8080/",
          "height": 279
        },
        "id": "OMSU8BIJr6Rg",
        "outputId": "f4856f11-1868-42eb-951d-fbb45ba84adc"
      },
      "execution_count": 219,
      "outputs": [
        {
          "output_type": "display_data",
          "data": {
            "text/plain": [
              "<Figure size 432x288 with 2 Axes>"
            ],
            "image/png": "[encoded data removed]"
          },
          "metadata": {
            "needs_background": "light"
          }
        }
      ]
    }
  ]
}